{
 "cells": [
  {
   "cell_type": "markdown",
   "id": "361422b1-1f74-47a1-968b-7c879879029c",
   "metadata": {},
   "source": [
    "# 객체 지향 프로그래밍 (OOP)"
   ]
  },
  {
   "cell_type": "markdown",
   "id": "cef329f7-d076-42dd-8ab9-48a4b4835939",
   "metadata": {},
   "source": [
    "![OOP](https://jongminfire.dev/static/375a067573d73f987cc12f19f7e7d341/bbfed/What-is-OOP.png)"
   ]
  },
  {
   "cell_type": "markdown",
   "id": "f0c8a667-4fd2-4228-91bd-1fcdeb7b8822",
   "metadata": {},
   "source": [
    "- 클래스(class) : 같은 종류의 집단에 속하는 속성(attribute)과 행위(method)를 '정의'한 것\n",
    "- 인스턴스(instance) : 클래스를 실제로 메모리 상에 할당한 것 ex. 공장에서 나온 물건 자체\n",
    "- 속성(attribute) : 클래스/인스턴스가 가지고 있는 데이터/값 ex. 벼룩\n",
    "- 행위(method) : 클래스/인스턴스가 가지고 있는 함수/기능 ex. 강아지가 짖을 수 있습니다."
   ]
  },
  {
   "cell_type": "code",
   "execution_count": 1,
   "id": "710a8677-c63d-4a00-9539-f2db3c2e85e0",
   "metadata": {},
   "outputs": [],
   "source": [
    "number = 1 + 2j"
   ]
  },
  {
   "cell_type": "code",
   "execution_count": 2,
   "id": "349b37aa-ae49-459d-92e0-e791762ef069",
   "metadata": {},
   "outputs": [
    {
     "data": {
      "text/plain": [
       "complex"
      ]
     },
     "execution_count": 2,
     "metadata": {},
     "output_type": "execute_result"
    }
   ],
   "source": [
    "type(number)"
   ]
  },
  {
   "cell_type": "code",
   "execution_count": 7,
   "id": "779fd191-5a2e-44e4-ac8a-a48e98d6b6a6",
   "metadata": {},
   "outputs": [
    {
     "name": "stdout",
     "output_type": "stream",
     "text": [
      "1.0\n",
      "2.0\n"
     ]
    }
   ],
   "source": [
    "print(number.real) # 실수부\n",
    "print(number.imag) # 허수부\n",
    "\n",
    "# 변수에 할당됨 자연스레 -> 파이썬은.. 모든 것이 변수다 !"
   ]
  },
  {
   "cell_type": "code",
   "execution_count": 8,
   "id": "6cfd218a-cfd3-4a9a-950b-054ad3129833",
   "metadata": {},
   "outputs": [],
   "source": [
    "numbers = [1, 2, 3]"
   ]
  },
  {
   "cell_type": "code",
   "execution_count": 9,
   "id": "eb3ef69d-997d-4147-b409-52c9b2958113",
   "metadata": {},
   "outputs": [
    {
     "data": {
      "text/plain": [
       "list"
      ]
     },
     "execution_count": 9,
     "metadata": {},
     "output_type": "execute_result"
    }
   ],
   "source": [
    "type(numbers)"
   ]
  },
  {
   "cell_type": "code",
   "execution_count": 13,
   "id": "ed4aedf6-d796-4146-9b20-a5e4268e8ea3",
   "metadata": {},
   "outputs": [
    {
     "name": "stdout",
     "output_type": "stream",
     "text": [
      "[3, 2, 1]\n"
     ]
    }
   ],
   "source": [
    "numbers.reverse()\n",
    "print(numbers)"
   ]
  },
  {
   "cell_type": "code",
   "execution_count": 15,
   "id": "fb71bf0a-d493-459f-9cea-a2430b51a6ac",
   "metadata": {},
   "outputs": [
    {
     "name": "stdout",
     "output_type": "stream",
     "text": [
      "010-1234-1234에서 010-456-456으로 전화 거는 중\n"
     ]
    }
   ],
   "source": [
    "power = False\n",
    "number = '010-1234-1234' # number_hong 수정 -> kim도 만들어야 따로 ! (이렇게 되면 번거로우니 클래스 탄생 !)\n",
    "book = {\n",
    "    'KIM': '010-456-456',\n",
    "    'PARK': '010-321-321'\n",
    "}\n",
    "\n",
    "def call(from_num, to_num):\n",
    "    print(f'{from_num}에서 {to_num}으로 전화 거는 중')\n",
    "\n",
    "call(number, book['KIM'])"
   ]
  },
  {
   "cell_type": "markdown",
   "id": "41a0617a-c97e-43de-99a1-4bc7ea3782eb",
   "metadata": {},
   "source": [
    "## Class\n",
    "\n",
    "- 클래스 선언\n",
    "```python\n",
    "class ClassName():\n",
    "    attribute1 = value1\n",
    "    attribute2 = value2\n",
    "    ...\n",
    "\n",
    "    def method_name1(self):\n",
    "        code\n",
    "\n",
    "    def method_name2(self):\n",
    "        code\n",
    "    ...\n",
    "```\n",
    "\n",
    "- 인스턴스화(클래스 실행)\n",
    "```python\n",
    "c = ClassName()\n",
    "```"
   ]
  },
  {
   "cell_type": "code",
   "execution_count": 28,
   "id": "cc2042d1-55db-4b78-89c0-52807d7a6992",
   "metadata": {},
   "outputs": [],
   "source": [
    "# 선언\n",
    "class MyClass():\n",
    "    name = 'KIM'\n",
    "\n",
    "    def hello(self):\n",
    "        return 'hello'\n",
    "\n",
    "##선언 다시하면 인스턴스화도 다시 !"
   ]
  },
  {
   "cell_type": "code",
   "execution_count": 29,
   "id": "d1f41561-f3e8-44e3-98d3-149e6b0bf3d5",
   "metadata": {},
   "outputs": [
    {
     "name": "stdout",
     "output_type": "stream",
     "text": [
      "<__main__.MyClass object at 0x000001CC001FB6B0>\n",
      "<class '__main__.MyClass'>\n"
     ]
    }
   ],
   "source": [
    "# 인스턴스화\n",
    "m = MyClass()\n",
    "print(m)\n",
    "print(type(m))"
   ]
  },
  {
   "cell_type": "code",
   "execution_count": 30,
   "id": "950cfc4c-12b1-4351-818a-d74a88b0a198",
   "metadata": {},
   "outputs": [
    {
     "name": "stdout",
     "output_type": "stream",
     "text": [
      "KIM\n"
     ]
    }
   ],
   "source": [
    "print(m.name)"
   ]
  },
  {
   "cell_type": "code",
   "execution_count": 31,
   "id": "e20ba869-7754-4f6a-828f-75e7ccbc067d",
   "metadata": {},
   "outputs": [
    {
     "name": "stdout",
     "output_type": "stream",
     "text": [
      "hello\n"
     ]
    }
   ],
   "source": [
    "m.hello()\n",
    "print(m.hello())"
   ]
  },
  {
   "cell_type": "code",
   "execution_count": 32,
   "id": "5fff6cff-6ae1-4e77-b52f-c0696ee3f033",
   "metadata": {},
   "outputs": [
    {
     "name": "stdout",
     "output_type": "stream",
     "text": [
      "<__main__.MyClass object at 0x000001CC003BFE90>\n"
     ]
    }
   ],
   "source": [
    "m2 = MyClass()\n",
    "print(m2)"
   ]
  },
  {
   "cell_type": "code",
   "execution_count": 34,
   "id": "e43abb9f-a928-46a8-a50f-c70d6080c3f3",
   "metadata": {},
   "outputs": [
    {
     "name": "stdout",
     "output_type": "stream",
     "text": [
      "PARK\n",
      "hello\n"
     ]
    }
   ],
   "source": [
    "m2.name = 'PARK'\n",
    "print(m2.name)\n",
    "print(m2.hello())"
   ]
  },
  {
   "cell_type": "code",
   "execution_count": 97,
   "id": "7ae3ed52-b648-4386-a9c6-d66136cbf03e",
   "metadata": {},
   "outputs": [],
   "source": [
    "class Phone():\n",
    "    power = False\n",
    "    number = '010-0000-0000'\n",
    "    book = {}\n",
    "    model = ''\n",
    "\n",
    "    def on(self):\n",
    "        if self.power == False:\n",
    "            self.power = True\n",
    "\n",
    "    def off(self):\n",
    "        if self.power == True:\n",
    "            self.power = False\n",
    "\n",
    "    def call(self, target):\n",
    "        if self.power == True:\n",
    "            print(f'{self.number}에서 {target}로 전화거는 중.')\n",
    "        else:\n",
    "            print('핸드폰이 꺼져있습니다.')"
   ]
  },
  {
   "cell_type": "code",
   "execution_count": 98,
   "id": "36d3c52f-1e17-45e6-a2e7-70d0043299b5",
   "metadata": {},
   "outputs": [],
   "source": [
    "my_phone = Phone()\n",
    "your_phone = Phone()"
   ]
  },
  {
   "cell_type": "code",
   "execution_count": 99,
   "id": "539543bf-2d3d-456f-ad34-97c2d11b7aa4",
   "metadata": {},
   "outputs": [
    {
     "name": "stdout",
     "output_type": "stream",
     "text": [
      "010-1234-1234\n"
     ]
    }
   ],
   "source": [
    "my_phone.number = '010-1234-1234'\n",
    "print(my_phone.number)"
   ]
  },
  {
   "cell_type": "code",
   "execution_count": 100,
   "id": "2a8dbd6c-df3e-4852-8bf7-1316811ce991",
   "metadata": {},
   "outputs": [
    {
     "name": "stdout",
     "output_type": "stream",
     "text": [
      "010-321-321\n"
     ]
    }
   ],
   "source": [
    "your_phone.number = '010-321-321'\n",
    "print(your_phone.number)"
   ]
  },
  {
   "cell_type": "code",
   "execution_count": 101,
   "id": "f7808d7d-537b-4ecb-9d08-68e9fa62d3bd",
   "metadata": {},
   "outputs": [
    {
     "name": "stdout",
     "output_type": "stream",
     "text": [
      "핸드폰이 꺼져있습니다.\n"
     ]
    }
   ],
   "source": [
    "my_phone.call(your_phone.number)"
   ]
  },
  {
   "cell_type": "code",
   "execution_count": 102,
   "id": "403699ef-fbcc-4fa8-b44a-16b75ead19aa",
   "metadata": {},
   "outputs": [
    {
     "name": "stdout",
     "output_type": "stream",
     "text": [
      "True\n"
     ]
    }
   ],
   "source": [
    "my_phone.on()\n",
    "print(my_phone.power)"
   ]
  },
  {
   "cell_type": "code",
   "execution_count": 103,
   "id": "42d83940-07cb-431e-be89-bf59574fc156",
   "metadata": {},
   "outputs": [
    {
     "name": "stdout",
     "output_type": "stream",
     "text": [
      "010-1234-1234에서 010-321-321로 전화거는 중.\n",
      "010-1234-1234에서 112로 전화거는 중.\n"
     ]
    }
   ],
   "source": [
    "my_phone.call(your_phone.number)\n",
    "my_phone.call(112)"
   ]
  },
  {
   "cell_type": "code",
   "execution_count": 104,
   "id": "c5e7db12-653a-47b3-99d8-3f9eaa2361ad",
   "metadata": {},
   "outputs": [
    {
     "name": "stdout",
     "output_type": "stream",
     "text": [
      "핸드폰이 꺼져있습니다.\n"
     ]
    }
   ],
   "source": [
    "your_phone.call('119')"
   ]
  },
  {
   "cell_type": "code",
   "execution_count": 105,
   "id": "e891f115-e9fd-4b60-a17f-f8ff8ea61d10",
   "metadata": {},
   "outputs": [
    {
     "name": "stdout",
     "output_type": "stream",
     "text": [
      "010-321-321에서 119로 전화거는 중.\n"
     ]
    }
   ],
   "source": [
    "your_phone.on()\n",
    "your_phone.call('119')"
   ]
  },
  {
   "cell_type": "code",
   "execution_count": 108,
   "id": "59f9da30-672a-43e0-aa63-0f33199474dd",
   "metadata": {},
   "outputs": [
    {
     "name": "stdout",
     "output_type": "stream",
     "text": [
      "True\n"
     ]
    }
   ],
   "source": [
    "third_phone = Phone()\n",
    "Phone.on(third_phone)\n",
    "print(third_phone.power)"
   ]
  },
  {
   "cell_type": "code",
   "execution_count": 90,
   "id": "1b0d6349-3c09-4c69-a5e7-1aad2e992e79",
   "metadata": {},
   "outputs": [],
   "source": [
    "# 연습\n",
    "class MyList():\n",
    "    data = []\n",
    "\n",
    "    def append(self, number):\n",
    "        # self.data.append(number) - me\n",
    "        self.data = self.data + [number] # teacher\n",
    "\n",
    "    def pop(self):\n",
    "        # self.data.pop() - me\n",
    "        result = self.data[-1]\n",
    "        self.data = self.data[:-1]\n",
    "        return result"
   ]
  },
  {
   "cell_type": "code",
   "execution_count": 91,
   "id": "b4e67761-b6d1-4d92-be92-864e068b8615",
   "metadata": {},
   "outputs": [
    {
     "name": "stdout",
     "output_type": "stream",
     "text": [
      "[]\n",
      "[5]\n",
      "[5, 10]\n",
      "[5]\n"
     ]
    }
   ],
   "source": [
    "list_a = MyList()\n",
    "\n",
    "print(list_a.data) # => []\n",
    "\n",
    "list_a.append(5)\n",
    "print(list_a.data) # => [5]\n",
    "list_a.append(10)\n",
    "print(list_a.data) # => [5, 10]\n",
    "\n",
    "list_a.pop()\n",
    "print(list_a.data) # => [5]"
   ]
  },
  {
   "cell_type": "code",
   "execution_count": 92,
   "id": "b9fb2ff2-edc8-4700-8c62-7e8c3bea3bea",
   "metadata": {},
   "outputs": [
    {
     "name": "stdout",
     "output_type": "stream",
     "text": [
      "['일', '이', '삼']\n"
     ]
    }
   ],
   "source": [
    "list_b = MyList()\n",
    "list_b.append('일')\n",
    "list_b.append('이')\n",
    "list_b.append('삼')\n",
    "print(list_b.data)"
   ]
  },
  {
   "cell_type": "markdown",
   "id": "01662d68-3a17-49db-a090-2fe3877409e3",
   "metadata": {},
   "source": [
    "## 생성자, 소멸자\n",
    "\n",
    "```python\n",
    "class MyClass():\n",
    "\n",
    "    def __init__(self):\n",
    "        pass\n",
    "\n",
    "    def __del__(self):\n",
    "        pass\n",
    "```"
   ]
  },
  {
   "cell_type": "code",
   "execution_count": 140,
   "id": "26116560-7b94-427e-b63d-c4c5ec3b2e26",
   "metadata": {},
   "outputs": [],
   "source": [
    "class Person():\n",
    "    name = '' # 없어도 무방\n",
    "\n",
    "    def __init__(self, name='익명'):\n",
    "        self.name = name\n",
    "        print('생성됨')\n",
    "\n",
    "    def __del__(self): # 데이터가 메모리 위치를 잃었을 때 !\n",
    "        print('소멸됨')"
   ]
  },
  {
   "cell_type": "code",
   "execution_count": 146,
   "id": "1cbf3cb5-fb75-40da-836e-1f83b52c8219",
   "metadata": {},
   "outputs": [
    {
     "name": "stdout",
     "output_type": "stream",
     "text": [
      "생성됨\n",
      "소멸됨\n",
      "KIM\n"
     ]
    }
   ],
   "source": [
    "p1 = Person('KIM')\n",
    "# 인스턴스는 내부 init 함수 실행한거랑 동일\n",
    "print(p1.name)"
   ]
  },
  {
   "cell_type": "code",
   "execution_count": 148,
   "id": "923d8b37-098b-4288-887e-2c27d42a59d2",
   "metadata": {},
   "outputs": [
    {
     "name": "stdout",
     "output_type": "stream",
     "text": [
      "생성됨\n",
      "소멸됨\n",
      "익명\n"
     ]
    }
   ],
   "source": [
    "p2 = Person()\n",
    "print(p2.name)"
   ]
  },
  {
   "cell_type": "code",
   "execution_count": 143,
   "id": "1fcfeb2c-1a80-45ee-b5e0-291350eba141",
   "metadata": {},
   "outputs": [
    {
     "name": "stdout",
     "output_type": "stream",
     "text": [
      "소멸됨\n"
     ]
    }
   ],
   "source": [
    "del p2"
   ]
  },
  {
   "cell_type": "code",
   "execution_count": 144,
   "id": "42f5a84c-c49e-4c62-86d4-c6420d728fd4",
   "metadata": {},
   "outputs": [
    {
     "data": {
      "text/plain": [
       "['__add__',\n",
       " '__class__',\n",
       " '__class_getitem__',\n",
       " '__contains__',\n",
       " '__delattr__',\n",
       " '__delitem__',\n",
       " '__dir__',\n",
       " '__doc__',\n",
       " '__eq__',\n",
       " '__format__',\n",
       " '__ge__',\n",
       " '__getattribute__',\n",
       " '__getitem__',\n",
       " '__getstate__',\n",
       " '__gt__',\n",
       " '__hash__',\n",
       " '__iadd__',\n",
       " '__imul__',\n",
       " '__init__',\n",
       " '__init_subclass__',\n",
       " '__iter__',\n",
       " '__le__',\n",
       " '__len__',\n",
       " '__lt__',\n",
       " '__mul__',\n",
       " '__ne__',\n",
       " '__new__',\n",
       " '__reduce__',\n",
       " '__reduce_ex__',\n",
       " '__repr__',\n",
       " '__reversed__',\n",
       " '__rmul__',\n",
       " '__setattr__',\n",
       " '__setitem__',\n",
       " '__sizeof__',\n",
       " '__str__',\n",
       " '__subclasshook__',\n",
       " 'append',\n",
       " 'clear',\n",
       " 'copy',\n",
       " 'count',\n",
       " 'extend',\n",
       " 'index',\n",
       " 'insert',\n",
       " 'pop',\n",
       " 'remove',\n",
       " 'reverse',\n",
       " 'sort']"
      ]
     },
     "execution_count": 144,
     "metadata": {},
     "output_type": "execute_result"
    }
   ],
   "source": [
    "dir([])"
   ]
  },
  {
   "cell_type": "code",
   "execution_count": 175,
   "id": "919af28a-ff77-4b85-9cbe-a00831009cba",
   "metadata": {},
   "outputs": [],
   "source": [
    "class Circle():\n",
    "    pi = 3.14 # pi는 고정값이라 적었고 r, x, y는 굳이 = 0 정의안해도 됨 !\n",
    "\n",
    "    def __init__(self, r, x=0, y=0):\n",
    "        self.r = r\n",
    "        self.x = x\n",
    "        self.y = y\n",
    "\n",
    "    def area(self):\n",
    "        return self.pi * self.r ** 2\n",
    "\n",
    "    def center(self):\n",
    "        return (self.x, self.y)\n",
    "\n",
    "    def move(self, x, y):\n",
    "        self.x = x\n",
    "        self.y = y\n",
    "        print(f'원의 중심이 {x}, {y}로 이동했습니다.')\n",
    "\n",
    "    def round(self):\n",
    "        return 2 * self.pi * self.r"
   ]
  },
  {
   "cell_type": "code",
   "execution_count": 176,
   "id": "55e7ca6b-d559-45e6-9d10-d2d735a9ad31",
   "metadata": {},
   "outputs": [],
   "source": [
    "c1 = Circle(5)\n",
    "c2 = Circle(10, 3, 3)"
   ]
  },
  {
   "cell_type": "code",
   "execution_count": 177,
   "id": "26563bdb-1c94-48e2-a4cd-68fd5d4b80b4",
   "metadata": {},
   "outputs": [
    {
     "name": "stdout",
     "output_type": "stream",
     "text": [
      "78.5\n",
      "314.0\n"
     ]
    }
   ],
   "source": [
    "print(c1.area())\n",
    "print(c2.area())"
   ]
  },
  {
   "cell_type": "code",
   "execution_count": 178,
   "id": "05a628a3-b9c7-4cde-a135-52dea77de810",
   "metadata": {},
   "outputs": [
    {
     "name": "stdout",
     "output_type": "stream",
     "text": [
      "(0, 0)\n",
      "(3, 3)\n"
     ]
    }
   ],
   "source": [
    "print(c1.center())\n",
    "print(c2.center())"
   ]
  },
  {
   "cell_type": "code",
   "execution_count": 179,
   "id": "3ba8d78f-ace3-438d-a60c-7b8c69d4959b",
   "metadata": {},
   "outputs": [
    {
     "name": "stdout",
     "output_type": "stream",
     "text": [
      "원의 중심이 10, 10로 이동했습니다.\n",
      "원의 중심이 2, 9로 이동했습니다.\n",
      "None\n"
     ]
    }
   ],
   "source": [
    "c1.move(10,10)\n",
    "print(c2.move(2,9))"
   ]
  },
  {
   "cell_type": "code",
   "execution_count": 181,
   "id": "59893750-2bca-4e52-a406-8fcd5216cf37",
   "metadata": {},
   "outputs": [
    {
     "name": "stdout",
     "output_type": "stream",
     "text": [
      "31.400000000000002\n",
      "62.800000000000004\n"
     ]
    }
   ],
   "source": [
    "print(c1.round())\n",
    "print(c2.round())"
   ]
  },
  {
   "cell_type": "code",
   "execution_count": 182,
   "id": "95873227-04e5-4cab-88cc-e3108e4671c4",
   "metadata": {},
   "outputs": [],
   "source": [
    "class Point():\n",
    "    def __init__(self, x, y):\n",
    "        self.x = x\n",
    "        self.y = y\n",
    "\n",
    "    def info(self):\n",
    "        return (self.x, self.y)"
   ]
  },
  {
   "cell_type": "code",
   "execution_count": 193,
   "id": "ffbdd4b4-e290-4c8a-833f-02ea8bb9c24f",
   "metadata": {},
   "outputs": [],
   "source": [
    "class Circle():\n",
    "    def __init__(self, point, r):\n",
    "        self.point = point\n",
    "        self.r = r\n",
    "\n",
    "    def info(self):\n",
    "        return(self.point.x, self.point.y, self.r)\n",
    "\n",
    "    def move(self, x, y):\n",
    "        self.point.x = x\n",
    "        self.point.y = y"
   ]
  },
  {
   "cell_type": "code",
   "execution_count": 194,
   "id": "a446694b-d7cf-478c-9114-3b0b6570c2fc",
   "metadata": {},
   "outputs": [],
   "source": [
    "p1 = Point(1, 2)"
   ]
  },
  {
   "cell_type": "code",
   "execution_count": 195,
   "id": "436a6759-1385-41a7-b74c-45ea887b974e",
   "metadata": {},
   "outputs": [
    {
     "name": "stdout",
     "output_type": "stream",
     "text": [
      "(1, 2)\n"
     ]
    }
   ],
   "source": [
    "print(p1.info()) #점"
   ]
  },
  {
   "cell_type": "code",
   "execution_count": 196,
   "id": "73d8da63-9281-4801-837d-a4f4cb648fc1",
   "metadata": {},
   "outputs": [
    {
     "name": "stdout",
     "output_type": "stream",
     "text": [
      "(1, 2, 5)\n"
     ]
    }
   ],
   "source": [
    "c1 = Circle(p1, 5)\n",
    "print(c1.info())"
   ]
  },
  {
   "cell_type": "code",
   "execution_count": 197,
   "id": "1a24bc23-cb10-4328-b660-3852a2d02281",
   "metadata": {},
   "outputs": [
    {
     "name": "stdout",
     "output_type": "stream",
     "text": [
      "(5, 5, 5)\n"
     ]
    }
   ],
   "source": [
    "c1.move(5, 5)\n",
    "print(c1.info())"
   ]
  },
  {
   "cell_type": "markdown",
   "id": "997f4d48-0219-4dfd-b534-170b1ba86a26",
   "metadata": {},
   "source": [
    "### 클래스 변수\n",
    "- 클래스 선언 블록 최상단에 위치\n",
    "\n",
    "### 인스턴스 변수\n",
    "- 인스턴스 내부에서 생성한 변수(`self.variavle = `)\n",
    "\n",
    "``` python\n",
    "class MyClass():\n",
    "    class_variable = '클래스변수'\n",
    "\n",
    "    def __init__(self):\n",
    "        self.instance_variable = '인스턴스변수'\n",
    "```"
   ]
  },
  {
   "cell_type": "code",
   "execution_count": 200,
   "id": "c0a44ffb-c3b8-41c5-9dc4-ed9c5bb81d3f",
   "metadata": {},
   "outputs": [
    {
     "name": "stdout",
     "output_type": "stream",
     "text": [
      "010-1234-1234\n",
      "오창희\n"
     ]
    }
   ],
   "source": [
    "class Person():\n",
    "    name = '홍길동'\n",
    "    phone = '010-1234-1234'\n",
    "\n",
    "    def __init__(self, name):\n",
    "        self.name = name\n",
    "\n",
    "p1 = Person('오창희')\n",
    "print(p1.phone)\n",
    "print(p1.name) # 순서 상 인스턴스 변수가 우선 !"
   ]
  },
  {
   "cell_type": "markdown",
   "id": "c06c09f8-60e4-4219-a2dd-cda9f1fcd51b",
   "metadata": {},
   "source": [
    "### 클래스 메소드, 인스턴스 메소드, 스택틱 메소드\n",
    "\n",
    "``` python\n",
    "class MyClass():\n",
    "    def instance_method(self):\n",
    "        pass\n",
    "\n",
    "    @classmethod\n",
    "    def class_method(cls):\n",
    "        pass\n",
    "\n",
    "    @staticmethod\n",
    "    def static_method():\n",
    "        pass\n",
    "```"
   ]
  },
  {
   "cell_type": "code",
   "execution_count": 201,
   "id": "b406ec2f-638f-4c12-ac78-e543924d478b",
   "metadata": {},
   "outputs": [],
   "source": [
    "class MyClass():\n",
    "    def instance_method(self):\n",
    "        return self\n",
    "\n",
    "    @classmethod\n",
    "    def class_method(cls):\n",
    "        return cls\n",
    "\n",
    "    @staticmethod\n",
    "    def static_method():\n",
    "        return 'hello'"
   ]
  },
  {
   "cell_type": "code",
   "execution_count": 207,
   "id": "c319a128-b905-4e9d-9e67-99d3e2c558e6",
   "metadata": {},
   "outputs": [
    {
     "name": "stdout",
     "output_type": "stream",
     "text": [
      "<__main__.MyClass object at 0x000001CC00F7DB50>\n",
      "<class '__main__.MyClass'>\n",
      "hello\n"
     ]
    }
   ],
   "source": [
    "c = MyClass()\n",
    "print(c.instance_method()) # 인스턴스 자체 (메모리)\n",
    "print(c.class_method()) # 정의 자체\n",
    "print(c.static_method())"
   ]
  },
  {
   "cell_type": "code",
   "execution_count": 219,
   "id": "c4202ecc-1dad-4963-b275-0cebb48f6d8a",
   "metadata": {},
   "outputs": [],
   "source": [
    "class Puppy():\n",
    "    num_of_puppy = 0\n",
    "\n",
    "    def __init__(self, name):\n",
    "        self.name = name\n",
    "        Puppy.num_of_puppy += 1\n",
    "\n",
    "    @classmethod\n",
    "    def get_status(cls):\n",
    "        print(f'현재 강아지는 {cls.num_of_puppy}마리가 있습니다.')\n",
    "\n",
    "    @staticmethod\n",
    "    def bark():\n",
    "        print('멍멍')\n",
    "\n",
    "    def bark2(self):\n",
    "        print(f'내 이름은 {self.name}이야 멍멍')"
   ]
  },
  {
   "cell_type": "code",
   "execution_count": 220,
   "id": "28acd489-c7b3-47c4-84fe-e75c6a1e7536",
   "metadata": {},
   "outputs": [
    {
     "name": "stdout",
     "output_type": "stream",
     "text": [
      "현재 강아지는 3마리가 있습니다.\n"
     ]
    }
   ],
   "source": [
    "p1 = Puppy('초코')\n",
    "p2 = Puppy('인절미')\n",
    "p3 = Puppy('별이')\n",
    "\n",
    "Puppy.get_status()"
   ]
  },
  {
   "cell_type": "code",
   "execution_count": 222,
   "id": "0021ff0d-2a07-4fe0-9034-f603852ba01e",
   "metadata": {},
   "outputs": [
    {
     "name": "stdout",
     "output_type": "stream",
     "text": [
      "내 이름은 초코이야 멍멍\n"
     ]
    }
   ],
   "source": [
    "p1.bark2()"
   ]
  },
  {
   "cell_type": "markdown",
   "id": "7b805c84-e17c-46af-8063-1f7c6707c718",
   "metadata": {},
   "source": [
    "## 상속"
   ]
  },
  {
   "cell_type": "code",
   "execution_count": 226,
   "id": "6c52b953-597d-4701-8eb0-7a6af8fe7404",
   "metadata": {},
   "outputs": [],
   "source": [
    "class Person():\n",
    "    ident = '111111-1111111'\n",
    "\n",
    "    def __init__(self, name):\n",
    "        self.name = name\n",
    "\n",
    "    def greeting(self):\n",
    "        print(f'안녕하세요 {self.name}입니다.')"
   ]
  },
  {
   "cell_type": "code",
   "execution_count": 227,
   "id": "e84cc992-60d5-4a83-964b-fcdd4ac88804",
   "metadata": {},
   "outputs": [],
   "source": [
    "p1 = Person('홍길동')\n",
    "p2 = Person('이순신')"
   ]
  },
  {
   "cell_type": "code",
   "execution_count": 228,
   "id": "d4a7ed0b-6c37-4ffe-8cf2-4d6ef5dda2f4",
   "metadata": {},
   "outputs": [
    {
     "name": "stdout",
     "output_type": "stream",
     "text": [
      "안녕하세요 홍길동입니다.\n",
      "안녕하세요 이순신입니다.\n"
     ]
    }
   ],
   "source": [
    "p1.greeting()\n",
    "p2.greeting()"
   ]
  },
  {
   "cell_type": "code",
   "execution_count": 235,
   "id": "0f06b204-3a7d-4d81-9aa9-2e0ca9527dc6",
   "metadata": {},
   "outputs": [],
   "source": [
    "class Soldier(Person):\n",
    "    # ident = '111111-1111111'\n",
    "\n",
    "    # def __init__(self, name):\n",
    "    #     self.name = name\n",
    "\n",
    "    def greeting2(self):\n",
    "        print(f'충성! {self.name}입니다.')\n",
    "\n",
    "# 오버라이팅 - 이름이 똑같으면 가장 가까운 것부터 실행 !"
   ]
  },
  {
   "cell_type": "code",
   "execution_count": 237,
   "id": "089c6be2-aa4b-48cd-b8e2-15e34eaadec2",
   "metadata": {},
   "outputs": [
    {
     "name": "stdout",
     "output_type": "stream",
     "text": [
      "안녕하세요 국방이입니다.\n",
      "충성! 국방이입니다.\n",
      "111111-1111111\n"
     ]
    }
   ],
   "source": [
    "s1 = Soldier('국방이')\n",
    "s1.greeting()\n",
    "s1.greeting2()\n",
    "print(s1.ident)"
   ]
  },
  {
   "cell_type": "code",
   "execution_count": 240,
   "id": "5a09d81f-6899-43b0-898d-d72c07f14775",
   "metadata": {},
   "outputs": [],
   "source": [
    "class Student(Person):\n",
    "    #ident = '111111-1111111'\n",
    "\n",
    "    #def __init__(self, name):\n",
    "        #self.name = name   => 새로 init 만들어서 실행 안 됨 !\n",
    "\n",
    "    #def greeting(self):\n",
    "        #print(f'안녕하세요 {self.name}입니다.')\n",
    "\n",
    "    student_id = '123456'\n",
    "\n",
    "    def __init__(self, student_id):\n",
    "        self.student_id = student_id"
   ]
  },
  {
   "cell_type": "code",
   "execution_count": 241,
   "id": "bb9d324f-fe28-49f0-a677-c8ccfc6423f1",
   "metadata": {},
   "outputs": [
    {
     "ename": "AttributeError",
     "evalue": "'Student' object has no attribute 'name'",
     "output_type": "error",
     "traceback": [
      "\u001b[1;31m---------------------------------------------------------------------------\u001b[0m",
      "\u001b[1;31mAttributeError\u001b[0m                            Traceback (most recent call last)",
      "Cell \u001b[1;32mIn[241], line 2\u001b[0m\n\u001b[0;32m      1\u001b[0m s1 \u001b[38;5;241m=\u001b[39m Student(\u001b[38;5;124m'\u001b[39m\u001b[38;5;124m789789\u001b[39m\u001b[38;5;124m'\u001b[39m)\n\u001b[1;32m----> 2\u001b[0m \u001b[43ms1\u001b[49m\u001b[38;5;241;43m.\u001b[39;49m\u001b[43mgreeting\u001b[49m\u001b[43m(\u001b[49m\u001b[43m)\u001b[49m\n",
      "Cell \u001b[1;32mIn[226], line 8\u001b[0m, in \u001b[0;36mPerson.greeting\u001b[1;34m(self)\u001b[0m\n\u001b[0;32m      7\u001b[0m \u001b[38;5;28;01mdef\u001b[39;00m \u001b[38;5;21mgreeting\u001b[39m(\u001b[38;5;28mself\u001b[39m):\n\u001b[1;32m----> 8\u001b[0m     \u001b[38;5;28mprint\u001b[39m(\u001b[38;5;124mf\u001b[39m\u001b[38;5;124m'\u001b[39m\u001b[38;5;124m안녕하세요 \u001b[39m\u001b[38;5;132;01m{\u001b[39;00m\u001b[38;5;28;43mself\u001b[39;49m\u001b[38;5;241;43m.\u001b[39;49m\u001b[43mname\u001b[49m\u001b[38;5;132;01m}\u001b[39;00m\u001b[38;5;124m입니다.\u001b[39m\u001b[38;5;124m'\u001b[39m)\n",
      "\u001b[1;31mAttributeError\u001b[0m: 'Student' object has no attribute 'name'"
     ]
    }
   ],
   "source": [
    "s1 = Student('789789')\n",
    "s1.greeting()"
   ]
  },
  {
   "cell_type": "code",
   "execution_count": 242,
   "id": "58ab332a-8b46-4b69-bc15-652b635e118d",
   "metadata": {},
   "outputs": [],
   "source": [
    "class Person():\n",
    "    def __init__(self, name, email, phone, location):\n",
    "        self.name = name\n",
    "        self.email = email\n",
    "        self.phone = phone\n",
    "        self.location = location\n",
    "\n",
    "class Student(Person):\n",
    "    def __init__(self, name, email, phone, location, student_id):\n",
    "        super().__init__(name, email, phone, location)\n",
    "        self.student_id = student_id"
   ]
  },
  {
   "cell_type": "code",
   "execution_count": 243,
   "id": "eb297708-8991-4a1c-853f-fe854fa53f28",
   "metadata": {},
   "outputs": [],
   "source": [
    "p1 = Person('HONG', 'test@gmail.com', '010-1234', 'Seoul')\n",
    "s1 = Student('KIM', 'kim@gmail.com', '010-4567', 'Paju', '123123')"
   ]
  },
  {
   "cell_type": "markdown",
   "id": "0e30de27-bb94-44d0-987c-6887cbad50c5",
   "metadata": {},
   "source": [
    "### 다중상속"
   ]
  },
  {
   "cell_type": "code",
   "execution_count": 244,
   "id": "33e4796d-cf68-47f5-be61-f6c0a760d601",
   "metadata": {},
   "outputs": [],
   "source": [
    "class Person():\n",
    "    def __init__(self, name):\n",
    "        self.name = name\n",
    "\n",
    "    def breath(self):\n",
    "        print('후하')"
   ]
  },
  {
   "cell_type": "code",
   "execution_count": 245,
   "id": "0e6a3ce9-f486-4280-af5c-4d314c7596b9",
   "metadata": {},
   "outputs": [],
   "source": [
    "class Mom(Person):\n",
    "    gene = 'xx'\n",
    "\n",
    "    def swim(self):\n",
    "        print('어푸어푸')"
   ]
  },
  {
   "cell_type": "code",
   "execution_count": 247,
   "id": "801d86f0-8088-49a6-b28b-1687f8470107",
   "metadata": {},
   "outputs": [],
   "source": [
    "class Dad(Person):\n",
    "    gene = 'xy'\n",
    "\n",
    "    def run(self):\n",
    "        print('다다다')"
   ]
  },
  {
   "cell_type": "code",
   "execution_count": 248,
   "id": "c51f838c-5852-4f72-990f-dfb1243c4497",
   "metadata": {},
   "outputs": [],
   "source": [
    "class Baby(Mom, Dad):\n",
    "    pass"
   ]
  },
  {
   "cell_type": "code",
   "execution_count": 255,
   "id": "53702d79-08b0-434c-9aee-6313e106ce18",
   "metadata": {},
   "outputs": [],
   "source": [
    "class Baby(Dad, Mom):\n",
    "    pass"
   ]
  },
  {
   "cell_type": "code",
   "execution_count": 256,
   "id": "ca193f37-0b74-46a1-bbbc-f85021df87fa",
   "metadata": {},
   "outputs": [
    {
     "name": "stdout",
     "output_type": "stream",
     "text": [
      "금쪽이\n"
     ]
    }
   ],
   "source": [
    "b = Baby('금쪽이')\n",
    "print(b.name)"
   ]
  },
  {
   "cell_type": "code",
   "execution_count": 258,
   "id": "d32f9a4c-6e26-4e85-b1f8-309d46cd67e0",
   "metadata": {},
   "outputs": [
    {
     "name": "stdout",
     "output_type": "stream",
     "text": [
      "다다다\n",
      "후하\n",
      "xy\n"
     ]
    }
   ],
   "source": [
    "b.run()\n",
    "b.breath()\n",
    "print(b.gene) # 먼저 쓴 객체 이름으로 상속"
   ]
  },
  {
   "cell_type": "code",
   "execution_count": 246,
   "id": "c906220c-de60-491c-84c7-4a30e4553ac3",
   "metadata": {},
   "outputs": [],
   "source": [
    "class Pocketmon():\n",
    "\n",
    "    def __init__(self, name):\n",
    "        self.name = name\n",
    "        self.level = 1\n",
    "        self.maxhp = self.level * 5\n",
    "\n",
    "    def attack(self, skill, target):\n",
    "        self.skill = skill\n",
    "        self.target = target\n",
    "        self.level = self.level + skill.count(',') + 1\n",
    "        self.maxhp = self.level * 5\n",
    "        print(f'{self.name}가 {self.target}를 {self.skill}로 공격했다! \\n레벨이 {self.level}로 +{skill.count(',') + 1}만큼 증가하였습니다. 최대체력은 {self.maxhp}입니다.')\n",
    "\n",
    "    def damage(self, target_skill):\n",
    "        self.damage = (target_skill.count(',') + 1) * 2\n",
    "        self.hp = self.maxhp - target_skill.count(',') - self.damage\n",
    "        print(f'{self.name}가 {self.target}에게 {target_skill}로 공격당했다! \\n남은 HP : {self.hp}')"
   ]
  },
  {
   "cell_type": "code",
   "execution_count": 249,
   "id": "20a6e23f-6675-4a95-b95b-1972f408b0ff",
   "metadata": {},
   "outputs": [
    {
     "name": "stdout",
     "output_type": "stream",
     "text": [
      "꼬부기가 파이리를 앞구르기, 물대포, 발차기, 소리지르기, 장난치기로 공격했다! \n",
      "레벨이 6로 +5만큼 증가하였습니다. 최대체력은 30입니다.\n"
     ]
    }
   ],
   "source": [
    "p1 = Pocketmon('꼬부기') \n",
    "p1.attack('앞구르기, 물대포, 발차기, 소리지르기, 장난치기', '파이리')"
   ]
  },
  {
   "cell_type": "code",
   "execution_count": 250,
   "id": "5fafc6db-b750-4662-a153-627fcb2fb362",
   "metadata": {},
   "outputs": [
    {
     "name": "stdout",
     "output_type": "stream",
     "text": [
      "꼬부기가 파이리를 총쏘기, 물대포로 공격했다! \n",
      "레벨이 8로 +2만큼 증가하였습니다. 최대체력은 40입니다.\n",
      "꼬부기가 파이리에게 불대포로 공격당했다! \n",
      "남은 HP : 38\n"
     ]
    }
   ],
   "source": [
    "p1.attack('총쏘기, 물대포', '파이리')\n",
    "p1.damage('불대포')"
   ]
  },
  {
   "cell_type": "code",
   "execution_count": null,
   "id": "b5fe9278-04a6-4ec0-87e9-718f702a0b83",
   "metadata": {},
   "outputs": [],
   "source": []
  }
 ],
 "metadata": {
  "kernelspec": {
   "display_name": "Python 3 (ipykernel)",
   "language": "python",
   "name": "python3"
  },
  "language_info": {
   "codemirror_mode": {
    "name": "ipython",
    "version": 3
   },
   "file_extension": ".py",
   "mimetype": "text/x-python",
   "name": "python",
   "nbconvert_exporter": "python",
   "pygments_lexer": "ipython3",
   "version": "3.12.4"
  }
 },
 "nbformat": 4,
 "nbformat_minor": 5
}
