{
 "cells": [
  {
   "cell_type": "code",
   "execution_count": 2,
   "id": "154b962d-dda0-43b4-a1de-8cacf73ec1a6",
   "metadata": {},
   "outputs": [
    {
     "name": "stdout",
     "output_type": "stream",
     "text": [
      "['__add__', '__class__', '__contains__', '__delattr__', '__dir__', '__doc__', '__eq__', '__format__', '__ge__', '__getattribute__', '__getitem__', '__getnewargs__', '__getstate__', '__gt__', '__hash__', '__init__', '__init_subclass__', '__iter__', '__le__', '__len__', '__lt__', '__mod__', '__mul__', '__ne__', '__new__', '__reduce__', '__reduce_ex__', '__repr__', '__rmod__', '__rmul__', '__setattr__', '__sizeof__', '__str__', '__subclasshook__', 'capitalize', 'casefold', 'center', 'count', 'encode', 'endswith', 'expandtabs', 'find', 'format', 'format_map', 'index', 'isalnum', 'isalpha', 'isascii', 'isdecimal', 'isdigit', 'isidentifier', 'islower', 'isnumeric', 'isprintable', 'isspace', 'istitle', 'isupper', 'join', 'ljust', 'lower', 'lstrip', 'maketrans', 'partition', 'removeprefix', 'removesuffix', 'replace', 'rfind', 'rindex', 'rjust', 'rpartition', 'rsplit', 'rstrip', 'split', 'splitlines', 'startswith', 'strip', 'swapcase', 'title', 'translate', 'upper', 'zfill']\n"
     ]
    }
   ],
   "source": [
    "print(dir('hello'))"
   ]
  },
  {
   "cell_type": "markdown",
   "id": "6d6aedd8-ffc7-46c3-940e-cca5c737401a",
   "metadata": {},
   "source": [
    "# 문자열 메소드"
   ]
  },
  {
   "cell_type": "code",
   "execution_count": 3,
   "id": "abc23cf7-bd40-431b-9b34-0801b27e5efd",
   "metadata": {},
   "outputs": [],
   "source": [
    "a = 'hello my name is hong'"
   ]
  },
  {
   "cell_type": "code",
   "execution_count": 4,
   "id": "0331014e-3c05-492a-bbb1-2669a0ac6a49",
   "metadata": {},
   "outputs": [
    {
     "name": "stdout",
     "output_type": "stream",
     "text": [
      "hello my name is hong\n"
     ]
    }
   ],
   "source": [
    "print(a)"
   ]
  },
  {
   "cell_type": "markdown",
   "id": "041b2ad5-5eea-4de6-8e49-bf8b75ea5fe4",
   "metadata": {},
   "source": [
    "문자열은 이뮤터블(수정 불가능)하다 !"
   ]
  },
  {
   "cell_type": "code",
   "execution_count": 5,
   "id": "b89a77c2-64ef-44ca-8270-a027f1cd0239",
   "metadata": {},
   "outputs": [
    {
     "ename": "TypeError",
     "evalue": "'str' object does not support item assignment",
     "output_type": "error",
     "traceback": [
      "\u001b[1;31m---------------------------------------------------------------------------\u001b[0m",
      "\u001b[1;31mTypeError\u001b[0m                                 Traceback (most recent call last)",
      "Cell \u001b[1;32mIn[5], line 1\u001b[0m\n\u001b[1;32m----> 1\u001b[0m \u001b[43ma\u001b[49m\u001b[43m[\u001b[49m\u001b[38;5;241;43m0\u001b[39;49m\u001b[43m]\u001b[49m \u001b[38;5;241m=\u001b[39m \u001b[38;5;124m'\u001b[39m\u001b[38;5;124mH\u001b[39m\u001b[38;5;124m'\u001b[39m\n",
      "\u001b[1;31mTypeError\u001b[0m: 'str' object does not support item assignment"
     ]
    }
   ],
   "source": [
    "a[0] = 'H'"
   ]
  },
  {
   "cell_type": "code",
   "execution_count": 8,
   "id": "bc135c65-7563-42a9-929b-c5106201b696",
   "metadata": {},
   "outputs": [
    {
     "name": "stdout",
     "output_type": "stream",
     "text": [
      "Hello my name is hong\n"
     ]
    }
   ],
   "source": [
    "print(a.capitalize())"
   ]
  },
  {
   "cell_type": "code",
   "execution_count": 9,
   "id": "24a72095-c505-4d1b-b3a3-52ec9b5ae41a",
   "metadata": {},
   "outputs": [
    {
     "data": {
      "text/plain": [
       "'Hello My Name Is Hong'"
      ]
     },
     "execution_count": 9,
     "metadata": {},
     "output_type": "execute_result"
    }
   ],
   "source": [
    "a.title()"
   ]
  },
  {
   "cell_type": "code",
   "execution_count": 11,
   "id": "8eda007b-b92b-45d2-b275-95d8a4a2d6b4",
   "metadata": {},
   "outputs": [
    {
     "data": {
      "text/plain": [
       "'hello my name is hong'"
      ]
     },
     "execution_count": 11,
     "metadata": {},
     "output_type": "execute_result"
    }
   ],
   "source": [
    "a.lower()"
   ]
  },
  {
   "cell_type": "code",
   "execution_count": 14,
   "id": "74ff4f07-1791-444d-b9df-d9562cec40a9",
   "metadata": {},
   "outputs": [],
   "source": [
    "a = a.upper()"
   ]
  },
  {
   "cell_type": "code",
   "execution_count": 15,
   "id": "aa8215cc-5eb2-4628-952d-8d5b2be4ea82",
   "metadata": {},
   "outputs": [
    {
     "name": "stdout",
     "output_type": "stream",
     "text": [
      "HELLO MY NAME IS HONG\n"
     ]
    }
   ],
   "source": [
    "print(a)"
   ]
  },
  {
   "cell_type": "markdown",
   "id": "bb019f5a-001c-4fd1-a092-74f8f133b2fd",
   "metadata": {},
   "source": [
    "위에 것들은 원본 데이터 수정 X ! -> 바꾸고 싶으면 변수 재할당 해야 !"
   ]
  },
  {
   "cell_type": "code",
   "execution_count": 16,
   "id": "68479a3a-0c54-417b-acca-7541fac6f01f",
   "metadata": {},
   "outputs": [],
   "source": [
    "my_list = ['my', 'name', 'is']"
   ]
  },
  {
   "cell_type": "code",
   "execution_count": 19,
   "id": "d66e2437-5299-41f2-86ea-8c71aba1c460",
   "metadata": {},
   "outputs": [
    {
     "name": "stdout",
     "output_type": "stream",
     "text": [
      "my!!!name!!!is\n"
     ]
    }
   ],
   "source": [
    "print('!!!'.join(my_list))"
   ]
  },
  {
   "cell_type": "code",
   "execution_count": 20,
   "id": "7f48adce-c57a-4a2a-9860-aba1df35c05a",
   "metadata": {},
   "outputs": [],
   "source": [
    "my_string = '      hello      \\n       '"
   ]
  },
  {
   "cell_type": "code",
   "execution_count": 21,
   "id": "9b4a3949-bf20-464f-a24f-c148c5585503",
   "metadata": {},
   "outputs": [
    {
     "name": "stdout",
     "output_type": "stream",
     "text": [
      "      hello      \n",
      "       \n"
     ]
    }
   ],
   "source": [
    "print(my_string)"
   ]
  },
  {
   "cell_type": "markdown",
   "id": "17e641ef-ffca-423a-ad01-f0ac6c333a60",
   "metadata": {},
   "source": [
    "공백 지우는 상황 (특히 웹 데이터)"
   ]
  },
  {
   "cell_type": "code",
   "execution_count": 26,
   "id": "1d6866ef-586b-4ac0-8613-c5af8d71acab",
   "metadata": {},
   "outputs": [
    {
     "name": "stdout",
     "output_type": "stream",
     "text": [
      "hello\n",
      "hello\n",
      "hello---------\n",
      "----------------hello\n"
     ]
    }
   ],
   "source": [
    "print(my_string.strip())\n",
    "\n",
    "my_string2 = '----------------hello---------'\n",
    "print(my_string2.strip('-'))\n",
    "print(my_string2.lstrip('-'))\n",
    "print(my_string2.rstrip('-'))"
   ]
  },
  {
   "cell_type": "code",
   "execution_count": 32,
   "id": "99803865-5133-4025-a7e3-4e88122b45c3",
   "metadata": {},
   "outputs": [
    {
     "data": {
      "text/plain": [
       "'w//////////oooow'"
      ]
     },
     "execution_count": 32,
     "metadata": {},
     "output_type": "execute_result"
    }
   ],
   "source": [
    "a = 'woooooooooooooow'\n",
    "a.replace('o', '/', 10)\n",
    "# (무엇을, 무엇으로, 몇 개 - 앞에서부터)"
   ]
  },
  {
   "cell_type": "code",
   "execution_count": 34,
   "id": "68a2280e-3a38-4d0c-a3c8-809d1bbd49bc",
   "metadata": {},
   "outputs": [
    {
     "name": "stdout",
     "output_type": "stream",
     "text": [
      "0\n",
      "3\n",
      "-1\n"
     ]
    }
   ],
   "source": [
    "a = 'apple'\n",
    "print(a.find('a'))\n",
    "print(a.find('l'))\n",
    "print(a.find('z'))"
   ]
  },
  {
   "cell_type": "code",
   "execution_count": 37,
   "id": "6ae534a5-c12d-4850-a75f-202a30bcd488",
   "metadata": {},
   "outputs": [
    {
     "name": "stdout",
     "output_type": "stream",
     "text": [
      "0\n",
      "1\n"
     ]
    }
   ],
   "source": [
    "print(a.index('a'))\n",
    "print(a.index('p'))\n",
    "# print(a.index('z')) => 에러 (처리하는 방식이 다름 !)"
   ]
  },
  {
   "cell_type": "code",
   "execution_count": 40,
   "id": "e2c69f0a-83f2-469f-a072-192b86a067c3",
   "metadata": {},
   "outputs": [
    {
     "data": {
      "text/plain": [
       "['my_name', 'is', 'hong']"
      ]
     },
     "execution_count": 40,
     "metadata": {},
     "output_type": "execute_result"
    }
   ],
   "source": [
    "a = 'my_name is hong'\n",
    "a.split()"
   ]
  },
  {
   "cell_type": "code",
   "execution_count": 41,
   "id": "954d90cc-76c9-4bdd-81be-2002de617092",
   "metadata": {},
   "outputs": [
    {
     "data": {
      "text/plain": [
       "7"
      ]
     },
     "execution_count": 41,
     "metadata": {},
     "output_type": "execute_result"
    }
   ],
   "source": [
    "a = 'wooooooo'\n",
    "a.count('o')"
   ]
  },
  {
   "cell_type": "markdown",
   "id": "95416e1b-9d5c-4f49-8ff0-e3ae8b62d8c6",
   "metadata": {},
   "source": [
    "# 리스트 메소드"
   ]
  },
  {
   "cell_type": "code",
   "execution_count": 42,
   "id": "522f3a19-388b-4341-bace-bdbd6d18ce85",
   "metadata": {},
   "outputs": [],
   "source": [
    "numbers = [1, 4, 3, 6, 8, 9, 3]"
   ]
  },
  {
   "cell_type": "code",
   "execution_count": 43,
   "id": "bc2c88db-077e-4cfd-9bdd-7926ea798d19",
   "metadata": {},
   "outputs": [
    {
     "data": {
      "text/plain": [
       "[1, 4, 3, 6, 8, 9, 3, 10]"
      ]
     },
     "execution_count": 43,
     "metadata": {},
     "output_type": "execute_result"
    }
   ],
   "source": [
    "numbers.append(10)\n",
    "numbers"
   ]
  },
  {
   "cell_type": "code",
   "execution_count": 44,
   "id": "fb2d8f32-624a-4482-b5b4-2c5c131f884f",
   "metadata": {},
   "outputs": [
    {
     "name": "stdout",
     "output_type": "stream",
     "text": [
      "[1, 4, 3, 6, 8, 9, 3, 10, 99, 100]\n",
      "[1, 4, 3, 6, 8, 9, 3, 10, 99, 100, 99, 100]\n"
     ]
    }
   ],
   "source": [
    "a = [99, 100]\n",
    "\n",
    "numbers.extend(a)\n",
    "print(numbers)\n",
    "# =\n",
    "numbers = numbers + a\n",
    "print(numbers)"
   ]
  },
  {
   "cell_type": "code",
   "execution_count": 47,
   "id": "1f511119-fca8-4c16-97c9-2b2bfdaff99f",
   "metadata": {},
   "outputs": [
    {
     "name": "stdout",
     "output_type": "stream",
     "text": [
      "[-10, -10, 1, 4, 3, -10, 6, 8, 9, 3, 10, 99, 100, 99, 100]\n"
     ]
    }
   ],
   "source": [
    "numbers.insert(5, -10)\n",
    "print(numbers)"
   ]
  },
  {
   "cell_type": "code",
   "execution_count": 53,
   "id": "791e7f40-cf1b-449f-be35-1190952a8701",
   "metadata": {},
   "outputs": [
    {
     "ename": "ValueError",
     "evalue": "list.remove(x): x not in list",
     "output_type": "error",
     "traceback": [
      "\u001b[1;31m---------------------------------------------------------------------------\u001b[0m",
      "\u001b[1;31mValueError\u001b[0m                                Traceback (most recent call last)",
      "Cell \u001b[1;32mIn[53], line 2\u001b[0m\n\u001b[0;32m      1\u001b[0m \u001b[38;5;66;03m# x를 찾아서 제거. 단, 없으면 에러 발생\u001b[39;00m\n\u001b[1;32m----> 2\u001b[0m \u001b[43mnumbers\u001b[49m\u001b[38;5;241;43m.\u001b[39;49m\u001b[43mremove\u001b[49m\u001b[43m(\u001b[49m\u001b[38;5;241;43m-\u001b[39;49m\u001b[38;5;241;43m10\u001b[39;49m\u001b[43m)\u001b[49m\n\u001b[0;32m      3\u001b[0m \u001b[38;5;28mprint\u001b[39m(numbers)\n",
      "\u001b[1;31mValueError\u001b[0m: list.remove(x): x not in list"
     ]
    }
   ],
   "source": [
    "# x를 찾아서 제거. 단, 없으면 에러 발생\n",
    "numbers.remove(-10)\n",
    "print(numbers)"
   ]
  },
  {
   "cell_type": "code",
   "execution_count": 62,
   "id": "54b32367-e6ba-45bb-b7b5-5587343c529a",
   "metadata": {},
   "outputs": [
    {
     "name": "stdout",
     "output_type": "stream",
     "text": [
      "[6, 8] 9\n",
      "[8] 6\n"
     ]
    }
   ],
   "source": [
    "result = numbers.pop()\n",
    "print(numbers, result)\n",
    "\n",
    "# pop은 스택이나 큐 두 개의 역할을 모두 할 수 있음 !\n",
    "# remove와 다른 것은 데이터를 리턴해줌 ! (+관점이 다름 - 데이터냐 위치냐 !)\n",
    "\n",
    "result = numbers.pop(0)\n",
    "print(numbers, result)"
   ]
  },
  {
   "cell_type": "markdown",
   "id": "8f49fb30-232b-4236-8b07-af7fef190169",
   "metadata": {},
   "source": [
    "![스택](https://img1.daumcdn.net/thumb/R1280x0/?scode=mtistory2&fname=https%3A%2F%2Fblog.kakaocdn.net%2Fdn%2FbcgR9A%2FbtqSX70PCTe%2FdMSMQoJcZhDpq4sRRpu3A0%2Fimg.png)\n",
    "last in last out"
   ]
  },
  {
   "cell_type": "markdown",
   "id": "c280bf06-e6c4-4280-91d6-b78d4deb023b",
   "metadata": {},
   "source": [
    "![큐](https://upload.wikimedia.org/wikipedia/commons/thumb/5/52/Data_Queue.svg/1280px-Data_Queue.svg.png)\n",
    "first in first out"
   ]
  },
  {
   "cell_type": "code",
   "execution_count": 63,
   "id": "ae386bdb-5506-4e75-941b-b9d41e05b0e2",
   "metadata": {},
   "outputs": [],
   "source": [
    "numbers = [4, 5, 99, 100]"
   ]
  },
  {
   "cell_type": "code",
   "execution_count": 65,
   "id": "db0fedd3-fe12-4e0e-9c1a-e9ac9a40bf25",
   "metadata": {},
   "outputs": [
    {
     "name": "stdout",
     "output_type": "stream",
     "text": [
      "[4, 5, 99, 100]\n",
      "[100, 99, 5, 4]\n"
     ]
    }
   ],
   "source": [
    "numbers.sort()\n",
    "print(numbers)\n",
    "\n",
    "numbers.sort(reverse = True)\n",
    "print(numbers)"
   ]
  },
  {
   "cell_type": "code",
   "execution_count": 69,
   "id": "c38d1faa-faf3-4639-a48a-c2c780645a2a",
   "metadata": {},
   "outputs": [
    {
     "name": "stdout",
     "output_type": "stream",
     "text": [
      "[3, 4, 5, 6, 89]\n",
      "[5, 3, 89, 4, 6]\n"
     ]
    }
   ],
   "source": [
    "numbers = [5, 3, 89, 4, 6]\n",
    "\n",
    "print(sorted(numbers)) # 원본이 바뀌지 않음 ! (정렬 됐을 때 어떤 모습 띌지 결과만 알려줌 !)\n",
    "print(numbers)"
   ]
  },
  {
   "cell_type": "code",
   "execution_count": 70,
   "id": "73b6fc4d-7c4e-4c99-856e-8a22708a975f",
   "metadata": {},
   "outputs": [
    {
     "name": "stdout",
     "output_type": "stream",
     "text": [
      "['a', 'b', 'c', 'o']\n",
      "['가', '나', '마']\n"
     ]
    }
   ],
   "source": [
    "my_list = ['b', 'c', 'a', 'o']\n",
    "my_list.sort()\n",
    "print(my_list)\n",
    "\n",
    "my_kor = ['가', '마', '나']\n",
    "my_kor.sort()\n",
    "print(my_kor)"
   ]
  },
  {
   "cell_type": "markdown",
   "id": "492416ae-7e56-4c09-8c20-d42b76e02e99",
   "metadata": {},
   "source": [
    "![아스키코드](https://velog.velcdn.com/images/pearpearb/post/40625303-b8ec-4ad1-af1e-b0866aafca0f/image.png)"
   ]
  },
  {
   "cell_type": "markdown",
   "id": "82b19db0-69aa-41a8-8f26-3c27dcee55f1",
   "metadata": {},
   "source": [
    "![유니코드](https://upload.wikimedia.org/wikipedia/commons/thumb/0/05/Roadmap_to_Unicode_BMP_multilingual.svg/langko-1350px-Roadmap_to_Unicode_BMP_multilingual.svg.png)\n",
    "\n",
    "아스키코드의 영어만 사용가능한 한계 극복 -> 이모지 또한 !"
   ]
  },
  {
   "cell_type": "code",
   "execution_count": 72,
   "id": "b3eda30e-35b3-4409-a13f-1a72d5e3773a",
   "metadata": {},
   "outputs": [
    {
     "name": "stdout",
     "output_type": "stream",
     "text": [
      "[5, 3, 89, 4, 6]\n",
      "[6, 4, 89, 3, 5]\n"
     ]
    }
   ],
   "source": [
    "print(numbers)\n",
    "numbers.reverse()\n",
    "print(numbers)"
   ]
  },
  {
   "cell_type": "code",
   "execution_count": 82,
   "id": "1c063d94-a0f1-4b86-bc13-5d6eb9a0bfe1",
   "metadata": {},
   "outputs": [
    {
     "name": "stdout",
     "output_type": "stream",
     "text": [
      "[6, 4, 89, 3, 5]\n",
      "3\n",
      "[5, 3, 89, 4, 6]\n"
     ]
    }
   ],
   "source": [
    "print(numbers)\n",
    "print(numbers[-2])\n",
    "print(numbers[::-1]) # reverse와 결과론적으로는 동일"
   ]
  },
  {
   "cell_type": "markdown",
   "id": "beab82b2-6c4c-485b-895f-09a4f02dab66",
   "metadata": {},
   "source": [
    "## list copy"
   ]
  },
  {
   "cell_type": "code",
   "execution_count": 85,
   "id": "46a34053-dbe8-48ba-b498-6605e1827a29",
   "metadata": {},
   "outputs": [],
   "source": [
    "origin_list = [1, 2, 3]\n",
    "copy_list = origin_list"
   ]
  },
  {
   "cell_type": "code",
   "execution_count": 86,
   "id": "a33480b8-8c86-41aa-b5b8-a52030e01673",
   "metadata": {},
   "outputs": [
    {
     "name": "stdout",
     "output_type": "stream",
     "text": [
      "[1, 2, 3]\n",
      "[1, 2, 3]\n"
     ]
    }
   ],
   "source": [
    "print(origin_list)\n",
    "print(copy_list)"
   ]
  },
  {
   "cell_type": "code",
   "execution_count": 87,
   "id": "ab8bbefd-911b-4d2a-81bd-620f81edb643",
   "metadata": {},
   "outputs": [
    {
     "name": "stdout",
     "output_type": "stream",
     "text": [
      "[100, 2, 3]\n",
      "[100, 2, 3]\n"
     ]
    }
   ],
   "source": [
    "origin_list[0] = 100\n",
    "print(origin_list)\n",
    "print(copy_list)"
   ]
  },
  {
   "cell_type": "code",
   "execution_count": 90,
   "id": "914f842e-54ef-4480-8741-dda86e69a75c",
   "metadata": {},
   "outputs": [
    {
     "name": "stdout",
     "output_type": "stream",
     "text": [
      "[100, 2, 3]\n",
      "[1, 2, 3]\n"
     ]
    }
   ],
   "source": [
    "origin_list = [1, 2, 3]\n",
    "copy_list = origin_list[:]\n",
    "\n",
    "origin_list[0] = 100\n",
    "\n",
    "print(origin_list)\n",
    "print(copy_list)"
   ]
  },
  {
   "cell_type": "code",
   "execution_count": 93,
   "id": "784d1b8d-9685-4d31-a777-4b931e08a796",
   "metadata": {},
   "outputs": [
    {
     "name": "stdout",
     "output_type": "stream",
     "text": [
      "[100, 2, [300, 4]]\n",
      "[1, 2, [300, 4]]\n"
     ]
    }
   ],
   "source": [
    "origin_list = [1, 2, [3, 4]]\n",
    "copy_list = origin_list[:]\n",
    "\n",
    "origin_list[0] = 100\n",
    "origin_list[2][0] = 300\n",
    "\n",
    "\n",
    "print(origin_list)\n",
    "print(copy_list)"
   ]
  },
  {
   "cell_type": "code",
   "execution_count": 94,
   "id": "314ca94f-c334-420b-a40a-21be9b913233",
   "metadata": {},
   "outputs": [
    {
     "name": "stdout",
     "output_type": "stream",
     "text": [
      "[100, 2, [300, 4]]\n",
      "[1, 2, [3, 4]]\n"
     ]
    }
   ],
   "source": [
    "import copy\n",
    "\n",
    "origin_list = [1, 2, [3,4]]\n",
    "copy_list = copy.deepcopy(origin_list)\n",
    "\n",
    "origin_list[0] = 100\n",
    "origin_list[2][0] = 300\n",
    "\n",
    "print(origin_list)\n",
    "print(copy_list)"
   ]
  },
  {
   "cell_type": "markdown",
   "id": "7ae658ba-39b7-42fa-87e0-32a2111a13be",
   "metadata": {},
   "source": [
    "## list comprehension"
   ]
  },
  {
   "cell_type": "code",
   "execution_count": 96,
   "id": "27be64fa-af8b-4449-b6d4-1f25a3a47084",
   "metadata": {},
   "outputs": [
    {
     "name": "stdout",
     "output_type": "stream",
     "text": [
      "[1, 2, 3, 4, 5, 6, 7, 8, 9, 10]\n"
     ]
    }
   ],
   "source": [
    "numbers = list(range(1, 11))\n",
    "print(numbers)"
   ]
  },
  {
   "cell_type": "code",
   "execution_count": 100,
   "id": "3708498f-9edd-46e2-be07-49c538a32774",
   "metadata": {},
   "outputs": [
    {
     "name": "stdout",
     "output_type": "stream",
     "text": [
      "[1, 8, 27, 64, 125, 216, 343, 512, 729, 1000]\n"
     ]
    }
   ],
   "source": [
    "result = []\n",
    "# 임시 변수 미리 만들어놓음\n",
    "for number in numbers:\n",
    "# 내가 가지고 있는 원본데이터는 numbers\n",
    "    temp = number **3\n",
    "    result.append(temp)\n",
    "    # result.append(number **3) 도 가능 !\n",
    "print(result)"
   ]
  },
  {
   "cell_type": "code",
   "execution_count": 101,
   "id": "b4bb6c3d-a82a-4177-b5a9-7961a7545a54",
   "metadata": {},
   "outputs": [
    {
     "name": "stdout",
     "output_type": "stream",
     "text": [
      "[1, 8, 27, 64, 125, 216, 343, 512, 729, 1000]\n"
     ]
    }
   ],
   "source": [
    "result = [number ** 3 for number in numbers]\n",
    "# result = [number1 ** 3, number2 ** 3, ...]\n",
    "print(result)"
   ]
  },
  {
   "cell_type": "code",
   "execution_count": 102,
   "id": "7401d07e-7e3f-41ad-b6b9-1fc7239f1f74",
   "metadata": {},
   "outputs": [
    {
     "name": "stdout",
     "output_type": "stream",
     "text": [
      "[2, 4, 6, 8, 10]\n"
     ]
    }
   ],
   "source": [
    "# 짝수만 고르기\n",
    "result = []\n",
    "\n",
    "for number in numbers:\n",
    "    if number % 2 == 0:\n",
    "        result.append(number)\n",
    "\n",
    "print(result)"
   ]
  },
  {
   "cell_type": "code",
   "execution_count": 104,
   "id": "ea7895ef-55d7-4fd9-82f8-e1135dd0b76a",
   "metadata": {},
   "outputs": [
    {
     "name": "stdout",
     "output_type": "stream",
     "text": [
      "[2, 4, 6, 8, 10]\n"
     ]
    }
   ],
   "source": [
    "result = [number for number in numbers if number % 2 == 0]\n",
    "print(result)"
   ]
  },
  {
   "cell_type": "code",
   "execution_count": 138,
   "id": "e4d66f9b-31d6-419b-9c87-579f6d154d38",
   "metadata": {},
   "outputs": [
    {
     "name": "stdout",
     "output_type": "stream",
     "text": [
      "my nm s hng\n"
     ]
    }
   ],
   "source": [
    "# 연습 !\n",
    "words = 'my name is hong'\n",
    "\n",
    "# => 모음 제거해서 'my nm s hng'\n",
    "\n",
    "hunt = ['a', 'e', 'i', 'o', 'u']\n",
    "# vowels = 'aeiou'\n",
    "result = []\n",
    "\n",
    "for word in words:\n",
    "    if word in hunt:\n",
    "        pass\n",
    "    else:\n",
    "        result.append(word)\n",
    "\n",
    "print(''.join(result))"
   ]
  },
  {
   "cell_type": "code",
   "execution_count": 135,
   "id": "59e1652c-c874-47f4-a151-245e85f2da59",
   "metadata": {},
   "outputs": [
    {
     "name": "stdout",
     "output_type": "stream",
     "text": [
      "my nm s hng\n"
     ]
    }
   ],
   "source": [
    "result = []\n",
    "for word in words:\n",
    "    if word not in ['a', 'e', 'i', 'o', 'u']:\n",
    "        result.append(word)\n",
    "\n",
    "print(''.join(result))"
   ]
  },
  {
   "cell_type": "code",
   "execution_count": 140,
   "id": "24486443-3546-4ee0-ba64-c12c6f1b70a4",
   "metadata": {},
   "outputs": [
    {
     "name": "stdout",
     "output_type": "stream",
     "text": [
      "my nm s hng\n"
     ]
    }
   ],
   "source": [
    "result = [word for word in words if word not in 'aeiou']\n",
    "print(''.join(result))"
   ]
  },
  {
   "cell_type": "code",
   "execution_count": 145,
   "id": "ecb5d0b2-fdb6-457a-8ab3-c0997cfbd082",
   "metadata": {},
   "outputs": [
    {
     "name": "stdout",
     "output_type": "stream",
     "text": [
      "1sdf\n",
      "asdf\n"
     ]
    }
   ],
   "source": [
    "a = 'asdf'\n",
    "print(a.replace('a', '1'))\n",
    "print(a)"
   ]
  },
  {
   "cell_type": "code",
   "execution_count": 146,
   "id": "38e24157-ff26-4c0e-9669-7bc23de7e378",
   "metadata": {},
   "outputs": [
    {
     "name": "stdout",
     "output_type": "stream",
     "text": [
      "my nm s hng\n"
     ]
    }
   ],
   "source": [
    "# teacher ver3. replace method\n",
    "\n",
    "vowels = 'aeiou'\n",
    "\n",
    "# words.replace('old', 'new', ?) -> words.replace('a', '') / words.replace('e', '') ...\n",
    "for char in vowels:\n",
    "    words = words.replace(char, '')\n",
    "\n",
    "print(words)"
   ]
  },
  {
   "cell_type": "markdown",
   "id": "4185b42a-f91c-487c-ab8f-8e6efaab9b01",
   "metadata": {},
   "source": [
    "# dictionary 메소드"
   ]
  },
  {
   "cell_type": "code",
   "execution_count": 148,
   "id": "9ceaeb34-4914-47c4-b475-431d4de16838",
   "metadata": {},
   "outputs": [],
   "source": [
    "info = {\n",
    "    'name' : 'hong', \n",
    "    'location' : 'seoul', \n",
    "    'age' : 20,\n",
    "    'models' : ['iphone', 'macBook', 'watch'],\n",
    "    'phonebook' : {\n",
    "        'KIM' : '010-1234-1234',\n",
    "        'LEE' : '010-4567-4567'\n",
    "    }\n",
    "}"
   ]
  },
  {
   "cell_type": "code",
   "execution_count": 151,
   "id": "4b9eced8-3cf4-4027-bc63-1f3e9dc4a424",
   "metadata": {},
   "outputs": [
    {
     "name": "stdout",
     "output_type": "stream",
     "text": [
      "hong\n",
      "20\n",
      "iphone\n",
      "010-1234-1234\n"
     ]
    }
   ],
   "source": [
    "print(info['name'])\n",
    "print(info['age'])\n",
    "print(info['models'][0])\n",
    "print(info['phonebook']['KIM'])"
   ]
  },
  {
   "cell_type": "code",
   "execution_count": 152,
   "id": "72cf6446-2b44-48d6-a318-53017dde6a39",
   "metadata": {},
   "outputs": [
    {
     "name": "stdout",
     "output_type": "stream",
     "text": [
      "{'name': 'park', 'location': 'seoul', 'age': 20, 'models': ['iphone', 'macBook', 'watch'], 'phonebook': {'KIM': '010-1234-1234', 'LEE': '010-4567-4567'}}\n",
      "{'name': 'oh', 'location': 'seoul', 'age': 20, 'models': ['iphone', 'macBook', 'watch'], 'phonebook': {'KIM': '010-1234-1234', 'LEE': '010-4567-4567'}}\n"
     ]
    }
   ],
   "source": [
    "info['name'] = 'park'\n",
    "print(info)\n",
    "\n",
    "info.update(name='oh')\n",
    "print(info)"
   ]
  },
  {
   "cell_type": "code",
   "execution_count": 153,
   "id": "90886c01-5f7a-4951-84fa-8ab6ff2f7156",
   "metadata": {},
   "outputs": [
    {
     "name": "stdout",
     "output_type": "stream",
     "text": [
      "{'name': 'oh', 'location': 'seoul', 'models': ['iphone', 'macBook', 'watch'], 'phonebook': {'KIM': '010-1234-1234', 'LEE': '010-4567-4567'}} 20\n"
     ]
    }
   ],
   "source": [
    "age = info.pop('age')\n",
    "print(info, age)"
   ]
  },
  {
   "cell_type": "code",
   "execution_count": 154,
   "id": "476c275a-e587-4e30-b393-74a676604905",
   "metadata": {},
   "outputs": [
    {
     "name": "stdout",
     "output_type": "stream",
     "text": [
      "oh\n",
      "oh\n"
     ]
    }
   ],
   "source": [
    "print(info.get('name'))\n",
    "print(info['name'])"
   ]
  },
  {
   "cell_type": "code",
   "execution_count": 155,
   "id": "96c1043a-999c-40b8-a096-c303ee35d6ae",
   "metadata": {},
   "outputs": [
    {
     "ename": "KeyError",
     "evalue": "'birth'",
     "output_type": "error",
     "traceback": [
      "\u001b[1;31m---------------------------------------------------------------------------\u001b[0m",
      "\u001b[1;31mKeyError\u001b[0m                                  Traceback (most recent call last)",
      "Cell \u001b[1;32mIn[155], line 1\u001b[0m\n\u001b[1;32m----> 1\u001b[0m \u001b[38;5;28mprint\u001b[39m(\u001b[43minfo\u001b[49m\u001b[43m[\u001b[49m\u001b[38;5;124;43m'\u001b[39;49m\u001b[38;5;124;43mbirth\u001b[39;49m\u001b[38;5;124;43m'\u001b[39;49m\u001b[43m]\u001b[49m)\n",
      "\u001b[1;31mKeyError\u001b[0m: 'birth'"
     ]
    }
   ],
   "source": [
    "print(info['birth'])"
   ]
  },
  {
   "cell_type": "code",
   "execution_count": 156,
   "id": "344ab5d9-a779-4a26-891e-a17eebdd4223",
   "metadata": {},
   "outputs": [
    {
     "name": "stdout",
     "output_type": "stream",
     "text": [
      "None\n"
     ]
    }
   ],
   "source": [
    "print(info.get('birth'))"
   ]
  },
  {
   "cell_type": "code",
   "execution_count": 160,
   "id": "7302e40a-64eb-4d97-bbce-d86a39e03bbe",
   "metadata": {},
   "outputs": [
    {
     "name": "stdout",
     "output_type": "stream",
     "text": [
      "{'A': 2, 'B': 2, 'O': 1, 'AB': 1}\n"
     ]
    }
   ],
   "source": [
    "# 연습문제\n",
    "\n",
    "blood_type = ['A', 'B', 'B', 'O', 'AB', 'A']\n",
    "\n",
    "# => blood_dict = {'A':2, 'B':2, 'AB':1, 'O':1}\n",
    "\n",
    "blood_dict = {}\n",
    "for bt in blood_type:\n",
    "    if blood_dict.get(bt):\n",
    "        blood_dict[bt]+=1\n",
    "    else:\n",
    "        blood_dict[bt]=1\n",
    "\n",
    "print(blood_dict)\n",
    "    "
   ]
  },
  {
   "cell_type": "code",
   "execution_count": 163,
   "id": "3f0255f3-5114-47d6-bac1-4f76224e7cbd",
   "metadata": {},
   "outputs": [
    {
     "name": "stdout",
     "output_type": "stream",
     "text": [
      "{'A': 2, 'B': 2, 'AB': 1, 'O': 1}\n"
     ]
    }
   ],
   "source": [
    "# teacher ver1.\n",
    "\n",
    "result = {\n",
    "    'A' : 0,\n",
    "    'B' : 0,\n",
    "    'AB' : 0,\n",
    "    'O' : 0\n",
    "}\n",
    "\n",
    "for blood in blood_type:\n",
    "    result[blood] += 1\n",
    "\n",
    "print(result)"
   ]
  },
  {
   "cell_type": "code",
   "execution_count": 169,
   "id": "9a63aebf-9771-4b0f-89bf-bca2153b161a",
   "metadata": {},
   "outputs": [
    {
     "name": "stdout",
     "output_type": "stream",
     "text": [
      "{'서울': 2, '대전': 1, '부산': 1, '강릉': 1}\n"
     ]
    }
   ],
   "source": [
    "locations = ['서울', '대전', '서울', '부산', '강릉']\n",
    "\n",
    "result = {}\n",
    "for l in locations:\n",
    "    # result 키에 location 있으면\n",
    "    if result.get(l):\n",
    "        result[l] += 1\n",
    "    else:\n",
    "        result[l] = 1\n",
    "\n",
    "print(result)"
   ]
  },
  {
   "cell_type": "code",
   "execution_count": 170,
   "id": "bcc8af98-ad22-4536-9c0b-8673910a540b",
   "metadata": {},
   "outputs": [
    {
     "name": "stdout",
     "output_type": "stream",
     "text": [
      "{'서울': 2, '대전': 1, '부산': 1, '강릉': 1}\n"
     ]
    }
   ],
   "source": [
    "# version another\n",
    "\n",
    "locations = ['서울', '대전', '서울', '부산', '강릉']\n",
    "\n",
    "result = {}\n",
    "for location in locations:\n",
    "   result.update({location: locations.count(location)})\n",
    "    \n",
    "print(result)"
   ]
  },
  {
   "cell_type": "markdown",
   "id": "b3fe23c8-4a32-4320-9ba8-021734db5a22",
   "metadata": {},
   "source": [
    "## dict comprehension"
   ]
  },
  {
   "cell_type": "code",
   "execution_count": 172,
   "id": "0b7a8cd4-28ee-420e-b85f-86e7f6c35577",
   "metadata": {},
   "outputs": [
    {
     "name": "stdout",
     "output_type": "stream",
     "text": [
      "{1: 1, 2: 8, 3: 27, 4: 64, 5: 125, 6: 216, 7: 343, 8: 512, 9: 729, 10: 1000}\n"
     ]
    }
   ],
   "source": [
    "# {1: 1, 2: 8, 3: 27, ... 10: 1000}\n",
    "result = {}\n",
    "numbers = list(range(1, 11))\n",
    "\n",
    "for number in numbers:\n",
    "    result[number] = number ** 3\n",
    "\n",
    "print(result)"
   ]
  },
  {
   "cell_type": "code",
   "execution_count": 175,
   "id": "b29e7a7b-f7a7-4114-b75e-70401edf15e8",
   "metadata": {},
   "outputs": [],
   "source": [
    "dust = {\n",
    "    '서울': 50,\n",
    "    '대전': 100,\n",
    "    '부산': 70,\n",
    "    '광주': 90\n",
    "}\n",
    "\n",
    "# result = {'대전': 100, '광주': 90}"
   ]
  },
  {
   "cell_type": "code",
   "execution_count": 176,
   "id": "e2ae3527-8459-44e2-9c26-93b9ce74fbfa",
   "metadata": {},
   "outputs": [
    {
     "name": "stdout",
     "output_type": "stream",
     "text": [
      "{'대전': 100, '광주': 90}\n"
     ]
    }
   ],
   "source": [
    "# 1. for\n",
    "\n",
    "result = {}\n",
    "for key, value in dust.items():\n",
    "    if value > 70:\n",
    "        result[key] = value\n",
    "print(result)"
   ]
  },
  {
   "cell_type": "code",
   "execution_count": 178,
   "id": "b2d286be-01d0-44c7-9a8a-fa455c67d0e4",
   "metadata": {},
   "outputs": [
    {
     "name": "stdout",
     "output_type": "stream",
     "text": [
      "{'대전': '나쁨', '광주': '나쁨'}\n"
     ]
    }
   ],
   "source": [
    "# 2. comp\n",
    "\n",
    "result = {k: '나쁨' for k, v in dust.items() if v > 70}\n",
    "print(result)"
   ]
  },
  {
   "cell_type": "markdown",
   "id": "0d880924-377c-493b-86d0-446942569dea",
   "metadata": {},
   "source": [
    "# 세트 메소드"
   ]
  },
  {
   "cell_type": "code",
   "execution_count": 247,
   "id": "4db6015f-db9f-4ecb-801e-c89514d07565",
   "metadata": {},
   "outputs": [],
   "source": [
    "fruits = {'apple', 'banana', 'melon'}"
   ]
  },
  {
   "cell_type": "code",
   "execution_count": 248,
   "id": "5937ec94-0508-4505-8130-281e2afdad6b",
   "metadata": {},
   "outputs": [
    {
     "name": "stdout",
     "output_type": "stream",
     "text": [
      "{'melon', 'banana', 'apple'}\n"
     ]
    }
   ],
   "source": [
    "print(fruits)"
   ]
  },
  {
   "cell_type": "code",
   "execution_count": 249,
   "id": "9805a798-2b48-4ea7-b52f-054271ab860e",
   "metadata": {},
   "outputs": [
    {
     "name": "stdout",
     "output_type": "stream",
     "text": [
      "{'melon', 'watermelon', 'banana', 'apple'}\n"
     ]
    }
   ],
   "source": [
    "fruits.add('watermelon')\n",
    "print(fruits)"
   ]
  },
  {
   "cell_type": "code",
   "execution_count": 250,
   "id": "97a9f0ca-764f-45c1-9f64-a33413be832a",
   "metadata": {},
   "outputs": [
    {
     "name": "stdout",
     "output_type": "stream",
     "text": [
      "{'melon', 'watermelon', 'banana', 'apple', 'grape', 'orange'}\n"
     ]
    }
   ],
   "source": [
    "# => 리스트의 extends와 비슷한 역할 !\n",
    "\n",
    "fruits.update({'grape', 'orange'})\n",
    "print(fruits)"
   ]
  },
  {
   "cell_type": "code",
   "execution_count": 251,
   "id": "c8395d82-acc8-4de9-ad69-d2bef8095167",
   "metadata": {},
   "outputs": [
    {
     "name": "stdout",
     "output_type": "stream",
     "text": [
      "{'melon', 'watermelon', 'banana', 'grape', 'orange'}\n"
     ]
    }
   ],
   "source": [
    "fruits.remove('apple')\n",
    "# remove는 한 개만 지울 수 있음 ! (단일속성만 - 하나의 아이템만)\n",
    "print(fruits)"
   ]
  },
  {
   "cell_type": "code",
   "execution_count": 252,
   "id": "1d66bf89-5e9d-4588-9a46-aa515865f015",
   "metadata": {},
   "outputs": [
    {
     "name": "stdout",
     "output_type": "stream",
     "text": [
      "{'watermelon', 'banana', 'grape', 'orange'}\n"
     ]
    }
   ],
   "source": [
    "fruits.pop()\n",
    "print(fruits)"
   ]
  },
  {
   "cell_type": "markdown",
   "id": "cf1b1a5e-4f77-4db6-aa62-a4f5ab3d0df8",
   "metadata": {},
   "source": [
    "## map, filter, zip\n",
    "\n",
    "### map\n",
    "- map(function, iterable)"
   ]
  },
  {
   "cell_type": "code",
   "execution_count": 256,
   "id": "8ef8645c-b677-44a5-b156-8d1627275be1",
   "metadata": {},
   "outputs": [
    {
     "name": "stdout",
     "output_type": "stream",
     "text": [
      "['1', '2', '3', '4', '5']\n"
     ]
    }
   ],
   "source": [
    "# 기존 방식\n",
    "\n",
    "numbers = [1, 2, 3, 4, 5]\n",
    "# => ['1', '2', '3', '4', '5']\n",
    "\n",
    "result = []\n",
    "for number in numbers:\n",
    "    result.append(str(number))\n",
    "\n",
    "print(result)"
   ]
  },
  {
   "cell_type": "code",
   "execution_count": 259,
   "id": "6196841f-26f2-438a-ad83-66af699d7693",
   "metadata": {},
   "outputs": [
    {
     "name": "stdout",
     "output_type": "stream",
     "text": [
      "<map object at 0x0000014EBFC95B10>\n",
      "['1', '2', '3', '4', '5']\n"
     ]
    }
   ],
   "source": [
    "result = map(str, numbers)\n",
    "print(result)\n",
    "\n",
    "print(list(result))"
   ]
  },
  {
   "cell_type": "code",
   "execution_count": 260,
   "id": "f4b5aaf8-59bb-4725-9e73-a0d0ff86d001",
   "metadata": {},
   "outputs": [
    {
     "name": "stdout",
     "output_type": "stream",
     "text": [
      "[1, 8, 27, 64, 125]\n"
     ]
    }
   ],
   "source": [
    "# 연습 !\n",
    "\n",
    "numbers = [1, 2, 3, 4, 5]\n",
    "\n",
    "result = []\n",
    "for number in numbers:\n",
    "    result.append(number ** 3)\n",
    "\n",
    "print(result)"
   ]
  },
  {
   "cell_type": "code",
   "execution_count": 261,
   "id": "f079c9c3-71dc-441e-8a42-b6482c18b1fa",
   "metadata": {},
   "outputs": [],
   "source": [
    "def cube(x):\n",
    "    return x ** 3"
   ]
  },
  {
   "cell_type": "code",
   "execution_count": 262,
   "id": "76d5961e-8e47-49c8-a331-739cffa7e821",
   "metadata": {},
   "outputs": [
    {
     "name": "stdout",
     "output_type": "stream",
     "text": [
      "[1, 8, 27, 64, 125]\n"
     ]
    }
   ],
   "source": [
    "result = map(cube, numbers)\n",
    "print(list(result))"
   ]
  },
  {
   "cell_type": "code",
   "execution_count": 264,
   "id": "0a2a59cf-f3e4-4f0f-8d8f-aba0335899c0",
   "metadata": {},
   "outputs": [
    {
     "name": "stdout",
     "output_type": "stream",
     "text": [
      "['1', '3', '5', '7', '9']\n"
     ]
    },
    {
     "data": {
      "text/plain": [
       "[1, 3, 5, 7, 9]"
      ]
     },
     "execution_count": 264,
     "metadata": {},
     "output_type": "execute_result"
    }
   ],
   "source": [
    "test_input = '1 3 5 7 9'\n",
    "print(test_input.split())\n",
    "list(map(int, test_input.split()))"
   ]
  },
  {
   "cell_type": "markdown",
   "id": "c8a322fe-388d-4214-9f6f-db592c442239",
   "metadata": {},
   "source": [
    "### filter\n",
    "- filter(function, iterable)"
   ]
  },
  {
   "cell_type": "code",
   "execution_count": 281,
   "id": "7fdb6e50-43be-455f-9736-31f2392f9d7e",
   "metadata": {},
   "outputs": [],
   "source": [
    "def is_odd(x):\n",
    "    return x % 2"
   ]
  },
  {
   "cell_type": "code",
   "execution_count": 282,
   "id": "25277803-0bb0-4cf5-bef1-f0fbf6e66156",
   "metadata": {},
   "outputs": [
    {
     "name": "stdout",
     "output_type": "stream",
     "text": [
      "[1, 3, 5]\n"
     ]
    }
   ],
   "source": [
    "numbers = [1, 2, 3, 4, 5]\n",
    "\n",
    "result = []\n",
    "for number in numbers:\n",
    "    if number % 2:\n",
    "        result.append(number)\n",
    "\n",
    "print(result)"
   ]
  },
  {
   "cell_type": "code",
   "execution_count": 283,
   "id": "122f4a3a-b146-4a2d-a95f-2c17c1864a56",
   "metadata": {},
   "outputs": [
    {
     "name": "stdout",
     "output_type": "stream",
     "text": [
      "[1, 3, 5]\n"
     ]
    }
   ],
   "source": [
    "result = filter(is_odd, numbers)\n",
    "print(list(result))"
   ]
  },
  {
   "cell_type": "markdown",
   "id": "ddcf29f7-28da-4e88-855a-5ba7b38ebb94",
   "metadata": {},
   "source": [
    "### zip"
   ]
  },
  {
   "cell_type": "code",
   "execution_count": 284,
   "id": "bd293fca-4620-450e-9fa8-3c117a56d9ec",
   "metadata": {},
   "outputs": [
    {
     "name": "stdout",
     "output_type": "stream",
     "text": [
      "<zip object at 0x0000014EBFC79980>\n",
      "[(1, 100), (2, 200), (3, 300)]\n"
     ]
    }
   ],
   "source": [
    "a = [1, 2, 3]\n",
    "b = [100, 200, 300]\n",
    "\n",
    "result = zip(a,b)\n",
    "print(result)\n",
    "print(list(result))"
   ]
  }
 ],
 "metadata": {
  "kernelspec": {
   "display_name": "Python 3 (ipykernel)",
   "language": "python",
   "name": "python3"
  },
  "language_info": {
   "codemirror_mode": {
    "name": "ipython",
    "version": 3
   },
   "file_extension": ".py",
   "mimetype": "text/x-python",
   "name": "python",
   "nbconvert_exporter": "python",
   "pygments_lexer": "ipython3",
   "version": "3.12.4"
  }
 },
 "nbformat": 4,
 "nbformat_minor": 5
}
