{
 "cells": [
  {
   "cell_type": "markdown",
   "id": "b21dbfa8-cc05-4708-bbc0-f82a86bb85a8",
   "metadata": {},
   "source": [
    "# 함수(function)"
   ]
  },
  {
   "cell_type": "code",
   "execution_count": 9,
   "id": "e50062cf-64ca-4b38-8bd7-7a18f5728650",
   "metadata": {},
   "outputs": [],
   "source": [
    "height = 50\n",
    "width = 30\n",
    "\n",
    "area = height * width\n",
    "perimeter = (height + width) * 2"
   ]
  },
  {
   "cell_type": "code",
   "execution_count": 10,
   "id": "11fac1de-f2d4-40f8-9eef-f5de70a95e4c",
   "metadata": {},
   "outputs": [
    {
     "name": "stdout",
     "output_type": "stream",
     "text": [
      "사각형의 넓이는 1500고, 둘레는 160입니다.\n"
     ]
    }
   ],
   "source": [
    "print(f'사각형의 넓이는 {area}고, 둘레는 {perimeter}입니다.')"
   ]
  },
  {
   "cell_type": "code",
   "execution_count": 11,
   "id": "49ab9b16-3144-4790-b9ff-ece1ecfd826d",
   "metadata": {},
   "outputs": [],
   "source": [
    "height2 = 100\n",
    "width2 = 150\n",
    "\n",
    "area2 = height2 * width2\n",
    "perimeter2 = (height2 + width2) * 2\n",
    "\n",
    "# => 불편 ! -> 그래서 함수 필요"
   ]
  },
  {
   "cell_type": "markdown",
   "id": "54cd4cbf-fcc8-4472-bace-3a5603b3bd44",
   "metadata": {},
   "source": [
    "## 함수의 선언과 호출\n",
    "\n",
    "- 함수의 선언\n",
    "```python\n",
    "def func_name(parameter1, parameter2 ...):\n",
    "    code1\n",
    "    code2\n",
    "    ...\n",
    "    return value\n",
    "```\n",
    "\n",
    "- 함수의 호출(실행)\n",
    "```python\n",
    "func_name(parameter1, parameter2 ...)\n",
    "```"
   ]
  },
  {
   "cell_type": "code",
   "execution_count": 12,
   "id": "d9874fdc-ca65-4bd8-991f-52338f3380ea",
   "metadata": {},
   "outputs": [],
   "source": [
    "def rectangle(height, width):\n",
    "    area = height * width\n",
    "    perimeter = (height + width) * 2\n",
    "    print(area, perimeter)"
   ]
  },
  {
   "cell_type": "code",
   "execution_count": 17,
   "id": "88bb090a-1ea6-41fb-8764-f2ec4c499b93",
   "metadata": {},
   "outputs": [
    {
     "name": "stdout",
     "output_type": "stream",
     "text": [
      "20000 600\n",
      "250000 2000\n",
      "50 30\n"
     ]
    }
   ],
   "source": [
    "rectangle(100, 200)\n",
    "rectangle(500, 500)\n",
    "rectangle(5, 10)"
   ]
  },
  {
   "cell_type": "code",
   "execution_count": 18,
   "id": "c648d7c8-e8a9-4536-9a87-c6c580c4180b",
   "metadata": {},
   "outputs": [
    {
     "data": {
      "text/plain": [
       "['ArithmeticError',\n",
       " 'AssertionError',\n",
       " 'AttributeError',\n",
       " 'BaseException',\n",
       " 'BaseExceptionGroup',\n",
       " 'BlockingIOError',\n",
       " 'BrokenPipeError',\n",
       " 'BufferError',\n",
       " 'BytesWarning',\n",
       " 'ChildProcessError',\n",
       " 'ConnectionAbortedError',\n",
       " 'ConnectionError',\n",
       " 'ConnectionRefusedError',\n",
       " 'ConnectionResetError',\n",
       " 'DeprecationWarning',\n",
       " 'EOFError',\n",
       " 'Ellipsis',\n",
       " 'EncodingWarning',\n",
       " 'EnvironmentError',\n",
       " 'Exception',\n",
       " 'ExceptionGroup',\n",
       " 'False',\n",
       " 'FileExistsError',\n",
       " 'FileNotFoundError',\n",
       " 'FloatingPointError',\n",
       " 'FutureWarning',\n",
       " 'GeneratorExit',\n",
       " 'IOError',\n",
       " 'ImportError',\n",
       " 'ImportWarning',\n",
       " 'IndentationError',\n",
       " 'IndexError',\n",
       " 'InterruptedError',\n",
       " 'IsADirectoryError',\n",
       " 'KeyError',\n",
       " 'KeyboardInterrupt',\n",
       " 'LookupError',\n",
       " 'MemoryError',\n",
       " 'ModuleNotFoundError',\n",
       " 'NameError',\n",
       " 'None',\n",
       " 'NotADirectoryError',\n",
       " 'NotImplemented',\n",
       " 'NotImplementedError',\n",
       " 'OSError',\n",
       " 'OverflowError',\n",
       " 'PendingDeprecationWarning',\n",
       " 'PermissionError',\n",
       " 'ProcessLookupError',\n",
       " 'RecursionError',\n",
       " 'ReferenceError',\n",
       " 'ResourceWarning',\n",
       " 'RuntimeError',\n",
       " 'RuntimeWarning',\n",
       " 'StopAsyncIteration',\n",
       " 'StopIteration',\n",
       " 'SyntaxError',\n",
       " 'SyntaxWarning',\n",
       " 'SystemError',\n",
       " 'SystemExit',\n",
       " 'TabError',\n",
       " 'TimeoutError',\n",
       " 'True',\n",
       " 'TypeError',\n",
       " 'UnboundLocalError',\n",
       " 'UnicodeDecodeError',\n",
       " 'UnicodeEncodeError',\n",
       " 'UnicodeError',\n",
       " 'UnicodeTranslateError',\n",
       " 'UnicodeWarning',\n",
       " 'UserWarning',\n",
       " 'ValueError',\n",
       " 'Warning',\n",
       " 'WindowsError',\n",
       " 'ZeroDivisionError',\n",
       " '__IPYTHON__',\n",
       " '__build_class__',\n",
       " '__debug__',\n",
       " '__doc__',\n",
       " '__import__',\n",
       " '__loader__',\n",
       " '__name__',\n",
       " '__package__',\n",
       " '__spec__',\n",
       " 'abs',\n",
       " 'aiter',\n",
       " 'all',\n",
       " 'anext',\n",
       " 'any',\n",
       " 'ascii',\n",
       " 'bin',\n",
       " 'bool',\n",
       " 'breakpoint',\n",
       " 'bytearray',\n",
       " 'bytes',\n",
       " 'callable',\n",
       " 'chr',\n",
       " 'classmethod',\n",
       " 'compile',\n",
       " 'complex',\n",
       " 'copyright',\n",
       " 'credits',\n",
       " 'delattr',\n",
       " 'dict',\n",
       " 'dir',\n",
       " 'display',\n",
       " 'divmod',\n",
       " 'enumerate',\n",
       " 'eval',\n",
       " 'exec',\n",
       " 'execfile',\n",
       " 'filter',\n",
       " 'float',\n",
       " 'format',\n",
       " 'frozenset',\n",
       " 'get_ipython',\n",
       " 'getattr',\n",
       " 'globals',\n",
       " 'hasattr',\n",
       " 'hash',\n",
       " 'help',\n",
       " 'hex',\n",
       " 'id',\n",
       " 'input',\n",
       " 'int',\n",
       " 'isinstance',\n",
       " 'issubclass',\n",
       " 'iter',\n",
       " 'len',\n",
       " 'license',\n",
       " 'list',\n",
       " 'locals',\n",
       " 'map',\n",
       " 'max',\n",
       " 'memoryview',\n",
       " 'min',\n",
       " 'next',\n",
       " 'object',\n",
       " 'oct',\n",
       " 'open',\n",
       " 'ord',\n",
       " 'pow',\n",
       " 'print',\n",
       " 'property',\n",
       " 'range',\n",
       " 'repr',\n",
       " 'reversed',\n",
       " 'round',\n",
       " 'runfile',\n",
       " 'set',\n",
       " 'setattr',\n",
       " 'slice',\n",
       " 'sorted',\n",
       " 'staticmethod',\n",
       " 'str',\n",
       " 'sum',\n",
       " 'super',\n",
       " 'tuple',\n",
       " 'type',\n",
       " 'vars',\n",
       " 'zip']"
      ]
     },
     "execution_count": 18,
     "metadata": {},
     "output_type": "execute_result"
    }
   ],
   "source": [
    "dir(__builtins__)"
   ]
  },
  {
   "cell_type": "code",
   "execution_count": 19,
   "id": "275d76c8-d535-46b5-a0b3-4f9ea5f414a0",
   "metadata": {},
   "outputs": [
    {
     "data": {
      "text/plain": [
       "4"
      ]
     },
     "execution_count": 19,
     "metadata": {},
     "output_type": "execute_result"
    }
   ],
   "source": [
    "max([1, 2, 3, 4])"
   ]
  },
  {
   "cell_type": "code",
   "execution_count": 33,
   "id": "c12de827-4290-4c03-a383-8cacda0ce12f",
   "metadata": {},
   "outputs": [],
   "source": [
    "def my_max(num1, num2):\n",
    "    # num1 = 5\n",
    "    # num2 = 1\n",
    "    if num1 > num2 :\n",
    "        print(f'큰 수는 {num1}입니다.')\n",
    "    elif num1 < num2 :\n",
    "        print(f'큰 수는 {num2}입니다.')\n",
    "    else :\n",
    "        print('두 수는 같습니다.')"
   ]
  },
  {
   "cell_type": "code",
   "execution_count": 35,
   "id": "7f9d2afc-5739-4c89-a0fa-7a60e9c74b0d",
   "metadata": {},
   "outputs": [],
   "source": [
    "def my_max(num1, num2):\n",
    "    # num1 = 5\n",
    "    # num2 = 1\n",
    "    if num1 > num2 :\n",
    "        print(num1)\n",
    "    elif num1 < num2 :\n",
    "        print(num2)\n",
    "    else :\n",
    "        print('두 수는 같습니다.')"
   ]
  },
  {
   "cell_type": "code",
   "execution_count": 25,
   "id": "6f1cd072-45df-4b4b-af0e-1f1cd3610fae",
   "metadata": {},
   "outputs": [
    {
     "name": "stdout",
     "output_type": "stream",
     "text": [
      "큰 수는 5입니다.\n",
      "큰 수는 4입니다.\n",
      "두 수는 같습니다.\n"
     ]
    }
   ],
   "source": [
    "my_max(5, 1)\n",
    "my_max(2, 4)\n",
    "my_max(3, 3)"
   ]
  },
  {
   "cell_type": "markdown",
   "id": "46595f07-479b-403e-baae-1cd0ad626991",
   "metadata": {},
   "source": [
    "## 함수의 return\n",
    "\n",
    "- 함수가 return을 만나면 해당 값을 반환하고 함수를 종료\n",
    "- 만약 return이 없는 경우, None을 자동으로 반환\n",
    "- return은 오직 하나의 객체만 반환한다."
   ]
  },
  {
   "cell_type": "code",
   "execution_count": 28,
   "id": "3257847a-5f76-4a5d-8435-e2edc76d621f",
   "metadata": {},
   "outputs": [
    {
     "name": "stdout",
     "output_type": "stream",
     "text": [
      "큰 수는 2입니다.\n",
      "None\n"
     ]
    }
   ],
   "source": [
    "result = my_max(1, 2)\n",
    "print(result)"
   ]
  },
  {
   "cell_type": "code",
   "execution_count": 29,
   "id": "92b06ea9-3961-4c7e-8b93-27b89c62d3f1",
   "metadata": {},
   "outputs": [],
   "source": [
    "def my_max2(num1, num2):\n",
    "    if num1 > num2:\n",
    "        return num1\n",
    "    elif num1 < num2:\n",
    "        return num2\n",
    "    else:\n",
    "        return num1"
   ]
  },
  {
   "cell_type": "code",
   "execution_count": 31,
   "id": "c21c57fe-61a1-4a3f-9d2a-969386d6a752",
   "metadata": {},
   "outputs": [
    {
     "data": {
      "text/plain": [
       "2"
      ]
     },
     "execution_count": 31,
     "metadata": {},
     "output_type": "execute_result"
    }
   ],
   "source": [
    "my_max2(1, 2)"
   ]
  },
  {
   "cell_type": "code",
   "execution_count": 36,
   "id": "c4d05471-c5ae-4bc4-b797-649c52bf659e",
   "metadata": {},
   "outputs": [
    {
     "name": "stdout",
     "output_type": "stream",
     "text": [
      "2\n"
     ]
    }
   ],
   "source": [
    "my_max(1, 2)"
   ]
  },
  {
   "cell_type": "code",
   "execution_count": 38,
   "id": "1e438d62-5302-4704-8274-83c5c481f14c",
   "metadata": {},
   "outputs": [
    {
     "name": "stdout",
     "output_type": "stream",
     "text": [
      "2\n"
     ]
    }
   ],
   "source": [
    "result = my_max2(1, 2)\n",
    "print(result)"
   ]
  },
  {
   "cell_type": "code",
   "execution_count": 39,
   "id": "dbfaacd3-534f-4dc5-8b8a-357f49e8c2d7",
   "metadata": {},
   "outputs": [],
   "source": [
    "def my_list_max(list1, list2):\n",
    "    pass"
   ]
  },
  {
   "cell_type": "code",
   "execution_count": 53,
   "id": "4c142031-913d-44e5-8dc1-55b20a46409c",
   "metadata": {},
   "outputs": [
    {
     "data": {
      "text/plain": [
       "[2, 3, 4]"
      ]
     },
     "execution_count": 53,
     "metadata": {},
     "output_type": "execute_result"
    }
   ],
   "source": [
    "my_list_max([1, 2, 3], [2, 3, 4])"
   ]
  },
  {
   "cell_type": "code",
   "execution_count": 54,
   "id": "daf19ab8-5f71-4ebe-a9e2-51f2d07fc513",
   "metadata": {},
   "outputs": [],
   "source": [
    "# version1\n",
    "\n",
    "def my_list_max(list1, list2):\n",
    "    if int(list1[0] + list1[1] + list1[2]) > int(list2[0] + list2[1] + list2[2]):\n",
    "        return list1\n",
    "    elif int(list1[0] + list1[1] + list1[2]) < int(list2[0] + list2[1] + list2[2]):\n",
    "        return list2\n",
    "    else:\n",
    "        return list1\n",
    "\n",
    "# 꼭 3개가 아니면 에러 !"
   ]
  },
  {
   "cell_type": "code",
   "execution_count": 55,
   "id": "6640d192-87b4-4fb4-8c2d-e20bd1aef849",
   "metadata": {},
   "outputs": [],
   "source": [
    "# version2\n",
    "\n",
    "def my_list_max(list1, list2):\n",
    "    result1 = 0\n",
    "    result2 = 0\n",
    "\n",
    "    for num in list1:\n",
    "        result1 += num\n",
    "\n",
    "    for num in list2:\n",
    "        result2 += num\n",
    "\n",
    "    if result1 > result2:\n",
    "        return list1\n",
    "\n",
    "    else:\n",
    "        return list2"
   ]
  },
  {
   "cell_type": "code",
   "execution_count": 57,
   "id": "c401f8c0-bfa4-4f3d-a706-029040784200",
   "metadata": {},
   "outputs": [],
   "source": [
    "# version3\n",
    "\n",
    "def my_list_max(list1, list2):\n",
    "\n",
    "    if sum(list1) > sum(list2):\n",
    "        return list1\n",
    "\n",
    "    else:\n",
    "        return list2"
   ]
  },
  {
   "cell_type": "code",
   "execution_count": 58,
   "id": "d6f161e2-aef3-4359-9a8d-71fc673df7b7",
   "metadata": {},
   "outputs": [
    {
     "data": {
      "text/plain": [
       "[2, 3, 4]"
      ]
     },
     "execution_count": 58,
     "metadata": {},
     "output_type": "execute_result"
    }
   ],
   "source": [
    "my_list_max([1, 2, 3], [2, 3, 4])"
   ]
  },
  {
   "cell_type": "code",
   "execution_count": 61,
   "id": "a8ec775b-0b30-467b-9c5b-9b4b5ca6ee62",
   "metadata": {},
   "outputs": [
    {
     "data": {
      "text/plain": [
       "30"
      ]
     },
     "execution_count": 61,
     "metadata": {},
     "output_type": "execute_result"
    }
   ],
   "source": [
    "def my_def(x):\n",
    "    return x * 3\n",
    "    return x * 2\n",
    "\n",
    "my_def(10)"
   ]
  },
  {
   "cell_type": "code",
   "execution_count": 66,
   "id": "e53671d1-dcdb-44e7-9739-9ed07de939e3",
   "metadata": {},
   "outputs": [
    {
     "data": {
      "text/plain": [
       "0"
      ]
     },
     "execution_count": 66,
     "metadata": {},
     "output_type": "execute_result"
    }
   ],
   "source": [
    "def my_def(x):\n",
    "    if x < 0:\n",
    "        return 0\n",
    "\n",
    "    else : \n",
    "        return x\n",
    "\n",
    "my_def(-1)"
   ]
  },
  {
   "cell_type": "code",
   "execution_count": 70,
   "id": "4c85f0ab-adb5-4d50-9992-e673cb83ae8a",
   "metadata": {},
   "outputs": [
    {
     "data": {
      "text/plain": [
       "(10, 20)"
      ]
     },
     "execution_count": 70,
     "metadata": {},
     "output_type": "execute_result"
    }
   ],
   "source": [
    "def my_def2(x):\n",
    "    return x, x * 2\n",
    "\n",
    "my_def2(10)\n",
    "\n",
    "# 튜플 ! => 하나의 객체만 내보냄 !"
   ]
  },
  {
   "cell_type": "markdown",
   "id": "05af5141-a29f-4f71-b0ce-bbbb4b3ac845",
   "metadata": {},
   "source": [
    "## 함수의 인수\n",
    "### 위치인수\n",
    "\n",
    "기본적으로 함수는 위치를 기준으로 인수를 판단합니다."
   ]
  },
  {
   "cell_type": "code",
   "execution_count": 72,
   "id": "8bbe0302-3351-44cd-9db1-5c411f317a83",
   "metadata": {},
   "outputs": [],
   "source": [
    "def cylinder(r, h):\n",
    "    return 3.14 * r**2 * h"
   ]
  },
  {
   "cell_type": "code",
   "execution_count": 74,
   "id": "261e7a28-dacc-449a-b7c9-3290c4f3b6ce",
   "metadata": {},
   "outputs": [
    {
     "data": {
      "text/plain": [
       "785.0"
      ]
     },
     "execution_count": 74,
     "metadata": {},
     "output_type": "execute_result"
    }
   ],
   "source": [
    "cylinder(10, 5)\n",
    "cylinder(5, 10)"
   ]
  },
  {
   "cell_type": "markdown",
   "id": "9bbc51d8-f2c8-4578-bea1-4eb856401631",
   "metadata": {},
   "source": [
    "### 기본값\n",
    "\n",
    "```python\n",
    "def func(p1=v1):\n",
    "    code...\n",
    "    return value\n",
    "\n",
    "- 데이터가 없을 때 사용하는 데이터 (변수 할당)"
   ]
  },
  {
   "cell_type": "code",
   "execution_count": 80,
   "id": "c1f9cd4c-f736-4d2f-9bac-b6b35bd87e34",
   "metadata": {},
   "outputs": [],
   "source": [
    "def greeting(name='익명'):\n",
    "    return f'{name}님 반갑습니다.'"
   ]
  },
  {
   "cell_type": "code",
   "execution_count": 82,
   "id": "87b7c717-649b-48f4-967e-e86879d22978",
   "metadata": {},
   "outputs": [
    {
     "data": {
      "text/plain": [
       "'익명님 반갑습니다.'"
      ]
     },
     "execution_count": 82,
     "metadata": {},
     "output_type": "execute_result"
    }
   ],
   "source": [
    "greeting('홍길동')\n",
    "greeting()"
   ]
  },
  {
   "cell_type": "code",
   "execution_count": 96,
   "id": "7fc5ccfb-0003-41b1-a5fc-8ae3a97da7ab",
   "metadata": {},
   "outputs": [
    {
     "name": "stdout",
     "output_type": "stream",
     "text": [
      "안녕하세요? 저는 길동이에요! hello\n"
     ]
    }
   ],
   "source": [
    "print('안녕하세요', '저는 길동이에요', sep='? ', end='!')\n",
    "print(' hello')"
   ]
  },
  {
   "cell_type": "code",
   "execution_count": 100,
   "id": "1fbfe188-d786-42b4-b0a7-6fd0a95d8b63",
   "metadata": {},
   "outputs": [
    {
     "ename": "SyntaxError",
     "evalue": "parameter without a default follows parameter with a default (402100064.py, line 1)",
     "output_type": "error",
     "traceback": [
      "\u001b[1;36m  Cell \u001b[1;32mIn[100], line 1\u001b[1;36m\u001b[0m\n\u001b[1;33m    def greeting(name='익명', age):\u001b[0m\n\u001b[1;37m                            ^\u001b[0m\n\u001b[1;31mSyntaxError\u001b[0m\u001b[1;31m:\u001b[0m parameter without a default follows parameter with a default\n"
     ]
    }
   ],
   "source": [
    "def greeting(name='익명', age):\n",
    "    return f'{name}님의 나이는 {age}입니다.'\n",
    "\n",
    "# 기본값을 앞에 쓰면 뒤에는 안됨 ! 왜냐면 기본값은 올 수도 안 올수도 있음 -> 헷갈리는 포인트 존재"
   ]
  },
  {
   "cell_type": "code",
   "execution_count": 99,
   "id": "626622a1-2228-49b0-a026-27478af71926",
   "metadata": {},
   "outputs": [],
   "source": [
    "def greeting(age, name='익명'):\n",
    "    return f'{name}님의 나이는 {age}입니다.'"
   ]
  },
  {
   "cell_type": "code",
   "execution_count": 101,
   "id": "d0459974-4651-42a6-82ba-2f83c3367a90",
   "metadata": {},
   "outputs": [
    {
     "data": {
      "text/plain": [
       "'익명님의 나이는 10입니다.'"
      ]
     },
     "execution_count": 101,
     "metadata": {},
     "output_type": "execute_result"
    }
   ],
   "source": [
    "greeting(10)"
   ]
  },
  {
   "cell_type": "code",
   "execution_count": 103,
   "id": "806a94b0-6f53-4fe4-bbbe-7fb7a3d5b75c",
   "metadata": {},
   "outputs": [
    {
     "data": {
      "text/plain": [
       "'길동님의 나이는 10입니다.'"
      ]
     },
     "execution_count": 103,
     "metadata": {},
     "output_type": "execute_result"
    }
   ],
   "source": [
    "greeting(10, '길동')"
   ]
  },
  {
   "cell_type": "markdown",
   "id": "0597884c-d359-4503-a71a-b9eca2decc39",
   "metadata": {},
   "source": [
    "### 키워드 인수\n",
    "\n",
    "함수를 호출(실행)할 때 내가 원하는 위치에 직접적으로 특정인자를 전달"
   ]
  },
  {
   "cell_type": "code",
   "execution_count": 104,
   "id": "cc120291-a997-47e9-b273-54f5c1e87c75",
   "metadata": {},
   "outputs": [],
   "source": [
    "def greeting(age, name='익명'):\n",
    "    return f'{name}님의 나이는 {age}입니다.'"
   ]
  },
  {
   "cell_type": "code",
   "execution_count": 105,
   "id": "70fb21bd-3818-4039-abfe-668a7afc29a0",
   "metadata": {},
   "outputs": [
    {
     "data": {
      "text/plain": [
       "'길동님의 나이는 10입니다.'"
      ]
     },
     "execution_count": 105,
     "metadata": {},
     "output_type": "execute_result"
    }
   ],
   "source": [
    "greeting(10)\n",
    "greeting(name='길동', age=10)"
   ]
  },
  {
   "cell_type": "markdown",
   "id": "0b0f09a9-832e-4a97-9eb1-7bec0b2d8704",
   "metadata": {},
   "source": [
    "### 가변인자 리스트\n",
    "\n",
    "```python\n",
    "def func(*parms):\n",
    "    code...\n",
    "```"
   ]
  },
  {
   "cell_type": "code",
   "execution_count": 106,
   "id": "37f5a1a2-1312-4bd2-94f2-5863088c7379",
   "metadata": {},
   "outputs": [
    {
     "name": "stdout",
     "output_type": "stream",
     "text": [
      "hi hello my name is\n"
     ]
    }
   ],
   "source": [
    "print('hi', 'hello', 'my', 'name', 'is')"
   ]
  },
  {
   "cell_type": "code",
   "execution_count": 107,
   "id": "7e8773dd-a5b6-48ed-9354-e47182b3656a",
   "metadata": {},
   "outputs": [],
   "source": [
    "def my_print(*words):\n",
    "    print(words)"
   ]
  },
  {
   "cell_type": "code",
   "execution_count": 110,
   "id": "3e1479b7-f796-4949-b707-16be652c6531",
   "metadata": {},
   "outputs": [
    {
     "name": "stdout",
     "output_type": "stream",
     "text": [
      "('my', 'name', 'is')\n"
     ]
    }
   ],
   "source": [
    "my_print('my', 'name', 'is')"
   ]
  },
  {
   "cell_type": "code",
   "execution_count": 144,
   "id": "f4e6254e-8079-4bce-a597-60b043cce783",
   "metadata": {},
   "outputs": [],
   "source": [
    "# my 1\n",
    "def my_max(*numbers):\n",
    "    return max(map(int, numbers))"
   ]
  },
  {
   "cell_type": "code",
   "execution_count": 182,
   "id": "d1096f5f-d4d1-4cac-a3b9-9950db94ef8e",
   "metadata": {},
   "outputs": [],
   "source": [
    "# my 2\n",
    "def my_max(*numbers, sep=','):\n",
    "    max_num = float('-inf')\n",
    "    max_num = 0\n",
    "    \n",
    "    for num in numbers:\n",
    "        if num > max_num:\n",
    "            max_num = num\n",
    "            \n",
    "    return max_num"
   ]
  },
  {
   "cell_type": "code",
   "execution_count": 183,
   "id": "7241883f-da9c-43e5-ada4-37803550770c",
   "metadata": {},
   "outputs": [
    {
     "data": {
      "text/plain": [
       "5"
      ]
     },
     "execution_count": 183,
     "metadata": {},
     "output_type": "execute_result"
    }
   ],
   "source": [
    "my_max(1, 2, 3, 4, 5)"
   ]
  },
  {
   "cell_type": "code",
   "execution_count": 184,
   "id": "f5be487d-afe9-4eeb-b7fb-e3d8026700ae",
   "metadata": {},
   "outputs": [],
   "source": [
    "# teacher\n",
    "def my_max(*numbers):\n",
    "    print(numbers)"
   ]
  },
  {
   "cell_type": "code",
   "execution_count": 186,
   "id": "b427348e-5566-4f94-b044-8fdaa13314f8",
   "metadata": {},
   "outputs": [],
   "source": [
    "def my_max(*numbers, sep=','):\n",
    "    max_num = numbers[0] # 가지고 있는 숫자 중 아무거나 ! (기준점 잡으면 됩니당)\n",
    "    \n",
    "    for num in numbers:\n",
    "        if num > max_num:\n",
    "            max_num = num\n",
    "            \n",
    "    return max_num"
   ]
  },
  {
   "cell_type": "markdown",
   "id": "b3a6a3aa-6f23-4b5e-a914-dc459c85c55a",
   "metadata": {},
   "source": [
    "### 정의되지 않은 키워드 인자 처리하기\n",
    "\n",
    "```python\n",
    "def func(**kwargs):\n",
    "    code ...\n",
    "```"
   ]
  },
  {
   "cell_type": "code",
   "execution_count": 187,
   "id": "c1ef3654-2047-4bcc-a847-96661f8386e8",
   "metadata": {},
   "outputs": [
    {
     "name": "stdout",
     "output_type": "stream",
     "text": [
      "{'name': 'hong', 'age': 10}\n"
     ]
    }
   ],
   "source": [
    "info = {\n",
    "    'name' : 'hong',\n",
    "    'age' : 10,\n",
    "}\n",
    "print(info)"
   ]
  },
  {
   "cell_type": "code",
   "execution_count": 188,
   "id": "8955d871-ced1-4ced-b287-5d3933906e63",
   "metadata": {},
   "outputs": [
    {
     "name": "stdout",
     "output_type": "stream",
     "text": [
      "{'name': 'hong', 'age': 10}\n"
     ]
    }
   ],
   "source": [
    "info = dict(name='hong', age=10)\n",
    "print(info)"
   ]
  },
  {
   "cell_type": "code",
   "execution_count": 205,
   "id": "6e0a4d5a-29fa-4b67-b2b9-5c5214dd9e50",
   "metadata": {},
   "outputs": [],
   "source": [
    "def my_dict(**kwargs):\n",
    "    print(kwargs)\n",
    "\n",
    "# **은 '키랑 벨류 뭘 쓸지 모르니 다 받을게 !!'"
   ]
  },
  {
   "cell_type": "code",
   "execution_count": 206,
   "id": "529b05ab-cb3b-43d1-9185-d4451b092502",
   "metadata": {},
   "outputs": [
    {
     "name": "stdout",
     "output_type": "stream",
     "text": [
      "{'asdf': 123, 'qwer': 456}\n"
     ]
    }
   ],
   "source": [
    "my_dict(asdf=123, qwer=456)"
   ]
  },
  {
   "cell_type": "code",
   "execution_count": 207,
   "id": "b35f700c-fbdf-467f-a6ac-3a018f3c9322",
   "metadata": {},
   "outputs": [],
   "source": [
    "def my_func(*datas, **kwdatas):\n",
    "    print(datas)\n",
    "    print(kwdatas)"
   ]
  },
  {
   "cell_type": "code",
   "execution_count": 208,
   "id": "9376643c-900f-47d2-a281-8e8b37c61dc6",
   "metadata": {},
   "outputs": [
    {
     "name": "stdout",
     "output_type": "stream",
     "text": [
      "(1, [2, 3, 4], 'A', {})\n",
      "{'hello': 'hi', 'world': 123, 'hi': {}}\n"
     ]
    }
   ],
   "source": [
    "my_func(1, [2, 3, 4], 'A', {}, hello='hi', world=123, hi={} )"
   ]
  },
  {
   "cell_type": "markdown",
   "id": "82b3bc1c-8f86-4da5-abf0-dd0964dc943a",
   "metadata": {},
   "source": [
    "### dictionary를 인자로 넣기(unpacking)"
   ]
  },
  {
   "cell_type": "code",
   "execution_count": 209,
   "id": "a684779e-e489-44b4-afe4-63361fe38275",
   "metadata": {},
   "outputs": [],
   "source": [
    "def sign_up(username, pw, pw_conf):\n",
    "    if pw == pw_conf:\n",
    "        print(f'{username}님 회원가입을 환영합니다.')\n",
    "\n",
    "    else:\n",
    "        print('비밀번호가 일치하지 않습니다.')"
   ]
  },
  {
   "cell_type": "code",
   "execution_count": 210,
   "id": "1c0963c8-b05e-4144-8f6e-64a2d9736219",
   "metadata": {},
   "outputs": [
    {
     "name": "stdout",
     "output_type": "stream",
     "text": [
      "비밀번호가 일치하지 않습니다.\n"
     ]
    }
   ],
   "source": [
    "sign_up('hong', '1234', '123')"
   ]
  },
  {
   "cell_type": "code",
   "execution_count": 214,
   "id": "13b46094-3a75-4b51-859a-b68bc593af05",
   "metadata": {},
   "outputs": [
    {
     "name": "stdout",
     "output_type": "stream",
     "text": [
      "hong님 회원가입을 환영합니다.\n",
      "hono님 회원가입을 환영합니다.\n"
     ]
    }
   ],
   "source": [
    "user_info = {\n",
    "    'username' : 'hong',\n",
    "    'pw' : '1234',\n",
    "    'pw_conf' : '1234'\n",
    "}\n",
    "sign_up(**user_info)\n",
    "sign_up(username='hono', pw='1234', pw_conf='1234')"
   ]
  },
  {
   "cell_type": "markdown",
   "id": "07fc1a9e-269f-4c42-89c1-9f44fd640d05",
   "metadata": {},
   "source": [
    "### lambda 표현식\n",
    "\n",
    "``` python\n",
    "lambda parameter : expression\n",
    "```"
   ]
  },
  {
   "cell_type": "code",
   "execution_count": 222,
   "id": "2a27a2aa-e810-4ea8-8c05-7a9d6d034a1a",
   "metadata": {},
   "outputs": [],
   "source": [
    "def my_sum(num1, num2):\n",
    "    return num1 + num2"
   ]
  },
  {
   "cell_type": "code",
   "execution_count": 223,
   "id": "dfcac6eb-b3c1-4c77-9a73-aee1e5cece19",
   "metadata": {},
   "outputs": [
    {
     "data": {
      "text/plain": [
       "3"
      ]
     },
     "execution_count": 223,
     "metadata": {},
     "output_type": "execute_result"
    }
   ],
   "source": [
    "my_sum(1, 2)"
   ]
  },
  {
   "cell_type": "code",
   "execution_count": 224,
   "id": "042cab33-9ebe-411a-82ae-e2fc0b21a39c",
   "metadata": {},
   "outputs": [
    {
     "data": {
      "text/plain": [
       "3"
      ]
     },
     "execution_count": 224,
     "metadata": {},
     "output_type": "execute_result"
    }
   ],
   "source": [
    "(lambda num1, num2: num1 + num2)(1, 2)"
   ]
  },
  {
   "cell_type": "markdown",
   "id": "e1ffc762-3d69-4a3c-afbf-ab8fe0b9737b",
   "metadata": {},
   "source": [
    "### 타입힌트"
   ]
  },
  {
   "cell_type": "code",
   "execution_count": 230,
   "id": "a8f806bc-0028-4cfd-a5ef-ff8c02f8db73",
   "metadata": {},
   "outputs": [],
   "source": [
    "def my_sum(a: int, b: int) -> int:\n",
    "    return a + b"
   ]
  },
  {
   "cell_type": "code",
   "execution_count": 233,
   "id": "235aeadb-008c-41cd-ad05-cf2434f123fb",
   "metadata": {},
   "outputs": [
    {
     "data": {
      "text/plain": [
       "3"
      ]
     },
     "execution_count": 233,
     "metadata": {},
     "output_type": "execute_result"
    }
   ],
   "source": [
    "my_sum(1, 2)"
   ]
  },
  {
   "cell_type": "markdown",
   "id": "2ea2deca-e685-4b8e-b48e-9e63a943083b",
   "metadata": {},
   "source": [
    "## 이름공간(space)\n",
    "\n",
    "python에서 사용되는 이름들은 이름공간에 저장되어있습니다. (LEGB - 뒤로 갈수록 후순위)\n",
    "\n",
    "1. Local : 정의된 함수 내부\n",
    "2. Enclosed : 상위함수\n",
    "3. Global : 함수 밖의 변수\n",
    "4. Built-in : python이 기본적으로 가지고 있는 함수 / 변수"
   ]
  },
  {
   "cell_type": "code",
   "execution_count": 244,
   "id": "e0384811-7144-46fd-99cb-c54dc8e39ebf",
   "metadata": {},
   "outputs": [
    {
     "name": "stdout",
     "output_type": "stream",
     "text": [
      "2\n"
     ]
    }
   ],
   "source": [
    "result : str(1)\n",
    "print(result)"
   ]
  },
  {
   "cell_type": "code",
   "execution_count": 241,
   "id": "66b45147-6dff-44ca-8188-bab48f165659",
   "metadata": {},
   "outputs": [],
   "source": [
    "str = 'hi'"
   ]
  },
  {
   "cell_type": "code",
   "execution_count": 243,
   "id": "14a775e9-6fcf-432c-bd0f-144eb3fe2e84",
   "metadata": {},
   "outputs": [],
   "source": [
    "del str"
   ]
  },
  {
   "cell_type": "code",
   "execution_count": 250,
   "id": "d152abd4-4525-4404-81cb-18784c3232f9",
   "metadata": {},
   "outputs": [
    {
     "name": "stdout",
     "output_type": "stream",
     "text": [
      "1\n",
      "5\n"
     ]
    }
   ],
   "source": [
    "a = 1\n",
    "\n",
    "def local_scope(a):\n",
    "    # a = 5\n",
    "    return a\n",
    "\n",
    "print(a)\n",
    "print(local_scope(5))"
   ]
  },
  {
   "cell_type": "code",
   "execution_count": 254,
   "id": "9ef7e522-08aa-478b-bb71-c2292bd3e9da",
   "metadata": {},
   "outputs": [
    {
     "data": {
      "text/plain": [
       "13"
      ]
     },
     "execution_count": 254,
     "metadata": {},
     "output_type": "execute_result"
    }
   ],
   "source": [
    "a = 12\n",
    "\n",
    "def global_scope():\n",
    "    global a\n",
    "    a = a + 1\n",
    "    return a\n",
    "\n",
    "global_scope()"
   ]
  },
  {
   "cell_type": "markdown",
   "id": "0fb65048-32c1-4079-af2f-895da3a38698",
   "metadata": {},
   "source": [
    "## 재귀\n",
    "\n",
    "재귀함수는 함수 내부에서 자기 자신을 호출하는 함수입니다."
   ]
  },
  {
   "cell_type": "markdown",
   "id": "04071413-8c6e-4b05-9a86-533fb0fe1914",
   "metadata": {},
   "source": [
    "n! = 1 * 2 * 3 * ... * n\n",
    "\n",
    "- 1! = 1\n",
    "- 2! = 1 * 2 = 1! * 2\n",
    "- 3! = 1 * 2 * 3 = 2! * 3\n",
    "- n! = (n-1)! * n"
   ]
  },
  {
   "cell_type": "code",
   "execution_count": 264,
   "id": "dc66f386-c44c-4954-9b99-f5c1c58ca737",
   "metadata": {},
   "outputs": [],
   "source": [
    "def fact(n):\n",
    "    if n == 1:\n",
    "        return 1\n",
    "    else:\n",
    "        return fact(n-1) * n"
   ]
  },
  {
   "cell_type": "code",
   "execution_count": 265,
   "id": "eda0abe4-9449-46ca-8f12-5e7a7b03bd5e",
   "metadata": {},
   "outputs": [
    {
     "data": {
      "text/plain": [
       "120"
      ]
     },
     "execution_count": 265,
     "metadata": {},
     "output_type": "execute_result"
    }
   ],
   "source": [
    "fact(5)"
   ]
  }
 ],
 "metadata": {
  "kernelspec": {
   "display_name": "Python 3 (ipykernel)",
   "language": "python",
   "name": "python3"
  },
  "language_info": {
   "codemirror_mode": {
    "name": "ipython",
    "version": 3
   },
   "file_extension": ".py",
   "mimetype": "text/x-python",
   "name": "python",
   "nbconvert_exporter": "python",
   "pygments_lexer": "ipython3",
   "version": "3.12.4"
  }
 },
 "nbformat": 4,
 "nbformat_minor": 5
}
